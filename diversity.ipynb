{
 "metadata": {
  "language_info": {
   "codemirror_mode": {
    "name": "ipython",
    "version": 3
   },
   "file_extension": ".py",
   "mimetype": "text/x-python",
   "name": "python",
   "nbconvert_exporter": "python",
   "pygments_lexer": "ipython3",
   "version": "3.8.6-final"
  },
  "orig_nbformat": 2,
  "kernelspec": {
   "name": "Python 3.8.6 64-bit ('venv')",
   "display_name": "Python 3.8.6 64-bit ('venv')",
   "metadata": {
    "interpreter": {
     "hash": "00609118f1cb952ff37d377be02185fe80c8be171dd0b2cb362c71ad962d7d38"
    }
   }
  }
 },
 "nbformat": 4,
 "nbformat_minor": 2,
 "cells": [
  {
   "cell_type": "code",
   "execution_count": 85,
   "metadata": {},
   "outputs": [],
   "source": [
    "import numpy as np\n",
    "import pandas as pd\n",
    "import matplotlib.pyplot as plt\n",
    "import seaborn as sns\n",
    "from wordcloud import WordCloud, STOPWORDS\n",
    "from sklearn.manifold import TSNE\n",
    "from sklearn.decomposition import PCA\n",
    "from sklearn import preprocessing\n",
    "import time\n",
    "import itertools\n",
    "from sklearn.cluster import KMeans\n",
    "from scipy import stats\n",
    "from tqdm import tqdm\n",
    "from sklearn.metrics.pairwise import euclidean_distances\n",
    "%matplotlib inline"
   ]
  },
  {
   "cell_type": "code",
   "execution_count": 3,
   "metadata": {},
   "outputs": [],
   "source": [
    "industry_df = pd.read_csv('Data/movie_industry.csv', encoding='latin-1')\n",
    "oscar_df = pd.read_csv('Data/the_oscar_award.csv', encoding='latin-1')\n",
    "links_df = pd.read_csv('Data/movie_lense/links.csv')\n",
    "tags_df = pd.read_csv('Data/movie_lense/tags.csv')\n",
    "genome_scores_df = pd.read_csv('Data/movie_lense/genome-scores.csv')\n",
    "movies_df = pd.read_csv('Data/movie_lense/movies.csv')\n",
    "ratings_df = pd.read_csv('Data/movie_lense/ratings.csv')\n",
    "genome_tags_df = pd.read_csv('Data/movie_lense/genome-tags.csv')"
   ]
  },
  {
   "cell_type": "code",
   "execution_count": 4,
   "metadata": {},
   "outputs": [
    {
     "output_type": "execute_result",
     "data": {
      "text/plain": "array([   47,    50,   296,   318,   527,   778,   858,  1147,  1193,\n        1213,  1222,  1617,  1732,  2329,  2502,  2858,  2959,  3178,\n        3949,  4011,  4226,  4973,  5110,  5137,  5954,  5995,  6016,\n        7361,  8784,  8873,  8949,  8950, 27831, 30749, 30820, 31410,\n       32587, 33794, 38061, 40278, 44195, 44204, 46976, 48394, 48516,\n       48696, 48774, 48780, 49272, 49530, 50068, 51255, 52952, 54286,\n       54503, 54997, 55118, 55247, 55290, 55765, 55820, 56367, 56782],\n      dtype=int64)"
     },
     "metadata": {},
     "execution_count": 4
    }
   ],
   "source": [
    "ratings_df\n",
    "userID=5\n",
    "def extract_user_movies(userID,thresh=4):\n",
    "    tdf = ratings_df[ratings_df['userId']==userID]\n",
    "    tdf = tdf[tdf['rating']>=thresh]\n",
    "    return tdf['movieId'].values\n",
    "\n",
    "extract_user_movies(5)"
   ]
  },
  {
   "cell_type": "code",
   "execution_count": 5,
   "metadata": {},
   "outputs": [
    {
     "output_type": "execute_result",
     "data": {
      "text/plain": "       movieId                                    title  \\\n0            1                         Toy Story (1995)   \n1            2                           Jumanji (1995)   \n2            3                  Grumpier Old Men (1995)   \n3            4                 Waiting to Exhale (1995)   \n4            5       Father of the Bride Part II (1995)   \n...        ...                                      ...   \n58093   193876                  The Great Glinka (1946)   \n58094   193878  Les tribulations d&#39;une caissière (2011)   \n58095   193880                 Her Name Was Mumu (2016)   \n58096   193882                             Flora (2017)   \n58097   193886                              Leal (2018)   \n\n                                            genres  \n0      Adventure|Animation|Children|Comedy|Fantasy  \n1                       Adventure|Children|Fantasy  \n2                                   Comedy|Romance  \n3                             Comedy|Drama|Romance  \n4                                           Comedy  \n...                                            ...  \n58093                           (no genres listed)  \n58094                                       Comedy  \n58095                                        Drama  \n58096                Adventure|Drama|Horror|Sci-Fi  \n58097                           Action|Crime|Drama  \n\n[58098 rows x 3 columns]",
      "text/html": "<div>\n<style scoped>\n    .dataframe tbody tr th:only-of-type {\n        vertical-align: middle;\n    }\n\n    .dataframe tbody tr th {\n        vertical-align: top;\n    }\n\n    .dataframe thead th {\n        text-align: right;\n    }\n</style>\n<table border=\"1\" class=\"dataframe\">\n  <thead>\n    <tr style=\"text-align: right;\">\n      <th></th>\n      <th>movieId</th>\n      <th>title</th>\n      <th>genres</th>\n    </tr>\n  </thead>\n  <tbody>\n    <tr>\n      <th>0</th>\n      <td>1</td>\n      <td>Toy Story (1995)</td>\n      <td>Adventure|Animation|Children|Comedy|Fantasy</td>\n    </tr>\n    <tr>\n      <th>1</th>\n      <td>2</td>\n      <td>Jumanji (1995)</td>\n      <td>Adventure|Children|Fantasy</td>\n    </tr>\n    <tr>\n      <th>2</th>\n      <td>3</td>\n      <td>Grumpier Old Men (1995)</td>\n      <td>Comedy|Romance</td>\n    </tr>\n    <tr>\n      <th>3</th>\n      <td>4</td>\n      <td>Waiting to Exhale (1995)</td>\n      <td>Comedy|Drama|Romance</td>\n    </tr>\n    <tr>\n      <th>4</th>\n      <td>5</td>\n      <td>Father of the Bride Part II (1995)</td>\n      <td>Comedy</td>\n    </tr>\n    <tr>\n      <th>...</th>\n      <td>...</td>\n      <td>...</td>\n      <td>...</td>\n    </tr>\n    <tr>\n      <th>58093</th>\n      <td>193876</td>\n      <td>The Great Glinka (1946)</td>\n      <td>(no genres listed)</td>\n    </tr>\n    <tr>\n      <th>58094</th>\n      <td>193878</td>\n      <td>Les tribulations d'une caissière (2011)</td>\n      <td>Comedy</td>\n    </tr>\n    <tr>\n      <th>58095</th>\n      <td>193880</td>\n      <td>Her Name Was Mumu (2016)</td>\n      <td>Drama</td>\n    </tr>\n    <tr>\n      <th>58096</th>\n      <td>193882</td>\n      <td>Flora (2017)</td>\n      <td>Adventure|Drama|Horror|Sci-Fi</td>\n    </tr>\n    <tr>\n      <th>58097</th>\n      <td>193886</td>\n      <td>Leal (2018)</td>\n      <td>Action|Crime|Drama</td>\n    </tr>\n  </tbody>\n</table>\n<p>58098 rows × 3 columns</p>\n</div>"
     },
     "metadata": {},
     "execution_count": 5
    }
   ],
   "source": [
    "tgsdf = genome_scores_df.pivot(index='movieId',columns='tagId',values='relevance')\n",
    "genome_tags_dict = dict(zip(genome_tags_df['tagId'],genome_tags_df['tag']))\n",
    "movie_names_dict = dict(zip(movies_df['movieId'],movies_df['title']))\n",
    "tags = genome_tags_df['tag'].values\n",
    "# genome_tags_dict\n",
    "# movie_names_dict\n",
    "movies_df"
   ]
  },
  {
   "cell_type": "code",
   "execution_count": 6,
   "metadata": {},
   "outputs": [
    {
     "output_type": "execute_result",
     "data": {
      "text/plain": "tagId        007  007 (series)  18th century    1920s    1930s    1950s  \\\nmovieId                                                                   \n1        0.02900       0.02375       0.05425  0.06875  0.16000  0.19525   \n2        0.03625       0.03625       0.08275  0.08175  0.10200  0.06900   \n3        0.04150       0.04950       0.03000  0.09525  0.04525  0.05925   \n4        0.03350       0.03675       0.04275  0.02625  0.05250  0.03025   \n5        0.04050       0.05175       0.03600  0.04625  0.05500  0.08000   \n...          ...           ...           ...      ...      ...      ...   \n185435   0.10625       0.10775       0.03025  0.05650  0.23175  0.04575   \n185585   0.04250       0.04175       0.06475  0.07625  0.08500  0.03800   \n186587   0.08950       0.09125       0.05075  0.04900  0.19475  0.04500   \n187593   0.05450       0.05250       0.07200  0.15050  0.23125  0.12775   \n187595   0.10150       0.10400       0.04950  0.07025  0.22875  0.11125   \n\ntagId      1960s    1970s    1980s  19th century  ...  world politics  \\\nmovieId                                           ...                   \n1        0.07600  0.25200  0.22750       0.02400  ...         0.03775   \n2        0.05775  0.10100  0.08225       0.05250  ...         0.04775   \n3        0.04000  0.14150  0.04075       0.03200  ...         0.05800   \n4        0.02425  0.07475  0.03750       0.02400  ...         0.04900   \n5        0.02150  0.07375  0.02825       0.02375  ...         0.05375   \n...          ...      ...      ...           ...  ...             ...   \n185435   0.05175  0.44700  0.19875       0.04025  ...         0.34725   \n185585   0.03425  0.16850  0.02525       0.03525  ...         0.04325   \n186587   0.03125  0.17275  0.07850       0.02475  ...         0.06475   \n187593   0.09375  0.30275  0.29850       0.10225  ...         0.15400   \n187595   0.03575  0.27350  0.07800       0.06950  ...         0.12250   \n\ntagId    world war i  world war ii  writer&#39;s life  writers  writing    wuxia  \\\nmovieId                                                                        \n1            0.02250       0.04075        0.03175  0.12950  0.04550  0.02000   \n2            0.02050       0.01650        0.02450  0.13050  0.02700  0.01825   \n3            0.02375       0.03550        0.02125  0.12775  0.03250  0.01625   \n4            0.03275       0.02125        0.03675  0.15925  0.05225  0.01500   \n5            0.02625       0.02050        0.02125  0.17725  0.02050  0.01500   \n...              ...           ...            ...      ...      ...      ...   \n185435       0.03125       0.03500        0.12125  0.32200  0.08200  0.03325   \n185585       0.05850       0.03050        0.02750  0.21850  0.04525  0.03550   \n186587       0.04500       0.04000        0.01975  0.22075  0.15125  0.06150   \n187593       0.06650       0.05825        0.06675  0.19575  0.13875  0.04525   \n187595       0.05325       0.04200        0.03725  0.20475  0.10700  0.05850   \n\ntagId       wwii   zombie  zombies  \nmovieId                             \n1        0.03850  0.09125  0.02225  \n2        0.01225  0.09925  0.01850  \n3        0.02125  0.09525  0.01750  \n4        0.01600  0.09175  0.01500  \n5        0.01550  0.08875  0.01575  \n...          ...      ...      ...  \n185435   0.02425  0.13725  0.02625  \n185585   0.02550  0.17475  0.03100  \n186587   0.04300  0.20800  0.03925  \n187593   0.05775  0.16050  0.04675  \n187595   0.03800  0.10225  0.02925  \n\n[13176 rows x 1128 columns]",
      "text/html": "<div>\n<style scoped>\n    .dataframe tbody tr th:only-of-type {\n        vertical-align: middle;\n    }\n\n    .dataframe tbody tr th {\n        vertical-align: top;\n    }\n\n    .dataframe thead th {\n        text-align: right;\n    }\n</style>\n<table border=\"1\" class=\"dataframe\">\n  <thead>\n    <tr style=\"text-align: right;\">\n      <th>tagId</th>\n      <th>007</th>\n      <th>007 (series)</th>\n      <th>18th century</th>\n      <th>1920s</th>\n      <th>1930s</th>\n      <th>1950s</th>\n      <th>1960s</th>\n      <th>1970s</th>\n      <th>1980s</th>\n      <th>19th century</th>\n      <th>...</th>\n      <th>world politics</th>\n      <th>world war i</th>\n      <th>world war ii</th>\n      <th>writer's life</th>\n      <th>writers</th>\n      <th>writing</th>\n      <th>wuxia</th>\n      <th>wwii</th>\n      <th>zombie</th>\n      <th>zombies</th>\n    </tr>\n    <tr>\n      <th>movieId</th>\n      <th></th>\n      <th></th>\n      <th></th>\n      <th></th>\n      <th></th>\n      <th></th>\n      <th></th>\n      <th></th>\n      <th></th>\n      <th></th>\n      <th></th>\n      <th></th>\n      <th></th>\n      <th></th>\n      <th></th>\n      <th></th>\n      <th></th>\n      <th></th>\n      <th></th>\n      <th></th>\n      <th></th>\n    </tr>\n  </thead>\n  <tbody>\n    <tr>\n      <th>1</th>\n      <td>0.02900</td>\n      <td>0.02375</td>\n      <td>0.05425</td>\n      <td>0.06875</td>\n      <td>0.16000</td>\n      <td>0.19525</td>\n      <td>0.07600</td>\n      <td>0.25200</td>\n      <td>0.22750</td>\n      <td>0.02400</td>\n      <td>...</td>\n      <td>0.03775</td>\n      <td>0.02250</td>\n      <td>0.04075</td>\n      <td>0.03175</td>\n      <td>0.12950</td>\n      <td>0.04550</td>\n      <td>0.02000</td>\n      <td>0.03850</td>\n      <td>0.09125</td>\n      <td>0.02225</td>\n    </tr>\n    <tr>\n      <th>2</th>\n      <td>0.03625</td>\n      <td>0.03625</td>\n      <td>0.08275</td>\n      <td>0.08175</td>\n      <td>0.10200</td>\n      <td>0.06900</td>\n      <td>0.05775</td>\n      <td>0.10100</td>\n      <td>0.08225</td>\n      <td>0.05250</td>\n      <td>...</td>\n      <td>0.04775</td>\n      <td>0.02050</td>\n      <td>0.01650</td>\n      <td>0.02450</td>\n      <td>0.13050</td>\n      <td>0.02700</td>\n      <td>0.01825</td>\n      <td>0.01225</td>\n      <td>0.09925</td>\n      <td>0.01850</td>\n    </tr>\n    <tr>\n      <th>3</th>\n      <td>0.04150</td>\n      <td>0.04950</td>\n      <td>0.03000</td>\n      <td>0.09525</td>\n      <td>0.04525</td>\n      <td>0.05925</td>\n      <td>0.04000</td>\n      <td>0.14150</td>\n      <td>0.04075</td>\n      <td>0.03200</td>\n      <td>...</td>\n      <td>0.05800</td>\n      <td>0.02375</td>\n      <td>0.03550</td>\n      <td>0.02125</td>\n      <td>0.12775</td>\n      <td>0.03250</td>\n      <td>0.01625</td>\n      <td>0.02125</td>\n      <td>0.09525</td>\n      <td>0.01750</td>\n    </tr>\n    <tr>\n      <th>4</th>\n      <td>0.03350</td>\n      <td>0.03675</td>\n      <td>0.04275</td>\n      <td>0.02625</td>\n      <td>0.05250</td>\n      <td>0.03025</td>\n      <td>0.02425</td>\n      <td>0.07475</td>\n      <td>0.03750</td>\n      <td>0.02400</td>\n      <td>...</td>\n      <td>0.04900</td>\n      <td>0.03275</td>\n      <td>0.02125</td>\n      <td>0.03675</td>\n      <td>0.15925</td>\n      <td>0.05225</td>\n      <td>0.01500</td>\n      <td>0.01600</td>\n      <td>0.09175</td>\n      <td>0.01500</td>\n    </tr>\n    <tr>\n      <th>5</th>\n      <td>0.04050</td>\n      <td>0.05175</td>\n      <td>0.03600</td>\n      <td>0.04625</td>\n      <td>0.05500</td>\n      <td>0.08000</td>\n      <td>0.02150</td>\n      <td>0.07375</td>\n      <td>0.02825</td>\n      <td>0.02375</td>\n      <td>...</td>\n      <td>0.05375</td>\n      <td>0.02625</td>\n      <td>0.02050</td>\n      <td>0.02125</td>\n      <td>0.17725</td>\n      <td>0.02050</td>\n      <td>0.01500</td>\n      <td>0.01550</td>\n      <td>0.08875</td>\n      <td>0.01575</td>\n    </tr>\n    <tr>\n      <th>...</th>\n      <td>...</td>\n      <td>...</td>\n      <td>...</td>\n      <td>...</td>\n      <td>...</td>\n      <td>...</td>\n      <td>...</td>\n      <td>...</td>\n      <td>...</td>\n      <td>...</td>\n      <td>...</td>\n      <td>...</td>\n      <td>...</td>\n      <td>...</td>\n      <td>...</td>\n      <td>...</td>\n      <td>...</td>\n      <td>...</td>\n      <td>...</td>\n      <td>...</td>\n      <td>...</td>\n    </tr>\n    <tr>\n      <th>185435</th>\n      <td>0.10625</td>\n      <td>0.10775</td>\n      <td>0.03025</td>\n      <td>0.05650</td>\n      <td>0.23175</td>\n      <td>0.04575</td>\n      <td>0.05175</td>\n      <td>0.44700</td>\n      <td>0.19875</td>\n      <td>0.04025</td>\n      <td>...</td>\n      <td>0.34725</td>\n      <td>0.03125</td>\n      <td>0.03500</td>\n      <td>0.12125</td>\n      <td>0.32200</td>\n      <td>0.08200</td>\n      <td>0.03325</td>\n      <td>0.02425</td>\n      <td>0.13725</td>\n      <td>0.02625</td>\n    </tr>\n    <tr>\n      <th>185585</th>\n      <td>0.04250</td>\n      <td>0.04175</td>\n      <td>0.06475</td>\n      <td>0.07625</td>\n      <td>0.08500</td>\n      <td>0.03800</td>\n      <td>0.03425</td>\n      <td>0.16850</td>\n      <td>0.02525</td>\n      <td>0.03525</td>\n      <td>...</td>\n      <td>0.04325</td>\n      <td>0.05850</td>\n      <td>0.03050</td>\n      <td>0.02750</td>\n      <td>0.21850</td>\n      <td>0.04525</td>\n      <td>0.03550</td>\n      <td>0.02550</td>\n      <td>0.17475</td>\n      <td>0.03100</td>\n    </tr>\n    <tr>\n      <th>186587</th>\n      <td>0.08950</td>\n      <td>0.09125</td>\n      <td>0.05075</td>\n      <td>0.04900</td>\n      <td>0.19475</td>\n      <td>0.04500</td>\n      <td>0.03125</td>\n      <td>0.17275</td>\n      <td>0.07850</td>\n      <td>0.02475</td>\n      <td>...</td>\n      <td>0.06475</td>\n      <td>0.04500</td>\n      <td>0.04000</td>\n      <td>0.01975</td>\n      <td>0.22075</td>\n      <td>0.15125</td>\n      <td>0.06150</td>\n      <td>0.04300</td>\n      <td>0.20800</td>\n      <td>0.03925</td>\n    </tr>\n    <tr>\n      <th>187593</th>\n      <td>0.05450</td>\n      <td>0.05250</td>\n      <td>0.07200</td>\n      <td>0.15050</td>\n      <td>0.23125</td>\n      <td>0.12775</td>\n      <td>0.09375</td>\n      <td>0.30275</td>\n      <td>0.29850</td>\n      <td>0.10225</td>\n      <td>...</td>\n      <td>0.15400</td>\n      <td>0.06650</td>\n      <td>0.05825</td>\n      <td>0.06675</td>\n      <td>0.19575</td>\n      <td>0.13875</td>\n      <td>0.04525</td>\n      <td>0.05775</td>\n      <td>0.16050</td>\n      <td>0.04675</td>\n    </tr>\n    <tr>\n      <th>187595</th>\n      <td>0.10150</td>\n      <td>0.10400</td>\n      <td>0.04950</td>\n      <td>0.07025</td>\n      <td>0.22875</td>\n      <td>0.11125</td>\n      <td>0.03575</td>\n      <td>0.27350</td>\n      <td>0.07800</td>\n      <td>0.06950</td>\n      <td>...</td>\n      <td>0.12250</td>\n      <td>0.05325</td>\n      <td>0.04200</td>\n      <td>0.03725</td>\n      <td>0.20475</td>\n      <td>0.10700</td>\n      <td>0.05850</td>\n      <td>0.03800</td>\n      <td>0.10225</td>\n      <td>0.02925</td>\n    </tr>\n  </tbody>\n</table>\n<p>13176 rows × 1128 columns</p>\n</div>"
     },
     "metadata": {},
     "execution_count": 6
    }
   ],
   "source": [
    "movie_tags_df = tgsdf.rename(genome_tags_dict,axis='columns')\n",
    "movie_tags_thresh_df = movie_tags_df.copy()\n",
    "thresh = 0.8\n",
    "movie_tags_thresh_df[movie_tags_thresh_df<thresh] = 0\n",
    "movie_tags_thresh_df[movie_tags_thresh_df>thresh] = 1\n",
    "# movie_tags_df.sum()\n",
    "movie_tags_df"
   ]
  },
  {
   "cell_type": "code",
   "execution_count": 7,
   "metadata": {},
   "outputs": [],
   "source": [
    "# Make matrix of euclidian distance b/w each movie\n",
    "dist = euclidean_distances(movie_tags_df,movie_tags_df)"
   ]
  },
  {
   "cell_type": "code",
   "execution_count": 66,
   "metadata": {},
   "outputs": [
    {
     "output_type": "execute_result",
     "data": {
      "text/plain": "0"
     },
     "metadata": {},
     "execution_count": 66
    }
   ],
   "source": [
    "movie_tags_df.index.get_loc(1)"
   ]
  },
  {
   "cell_type": "code",
   "execution_count": 8,
   "metadata": {},
   "outputs": [
    {
     "output_type": "execute_result",
     "data": {
      "text/plain": "array([[5.80485434, 5.60443644, 6.33694617, ..., 6.67146577, 6.76831775,\n        5.63426966],\n       [5.60443644, 5.80485434, 4.9950365 , ..., 5.46353316, 7.32374549,\n        5.24566639],\n       [6.33694617, 4.9950365 , 5.80485434, ..., 5.31612765, 6.81545049,\n        5.03226821],\n       ...,\n       [6.67146577, 5.46353316, 5.31612765, ..., 5.80485434, 6.3338389 ,\n        5.2941725 ],\n       [6.76831775, 7.32374549, 6.81545049, ..., 6.3338389 , 5.80485434,\n        5.05494847],\n       [5.63426966, 5.24566639, 5.03226821, ..., 5.2941725 , 5.05494847,\n        5.80485434]])"
     },
     "metadata": {},
     "execution_count": 8
    }
   ],
   "source": [
    "np.fill_diagonal(dist,np.median(dist)) # Make all diags median so they doont influence min or max\n",
    "dist"
   ]
  },
  {
   "cell_type": "code",
   "execution_count": 9,
   "metadata": {
    "tags": []
   },
   "outputs": [],
   "source": [
    "x, y = np.unravel_index(dist.argmin(), dist.shape)"
   ]
  },
  {
   "cell_type": "code",
   "execution_count": 10,
   "metadata": {
    "tags": []
   },
   "outputs": [
    {
     "output_type": "stream",
     "name": "stdout",
     "text": "       movieId         title                 genres\n13173    63436  Saw V (2008)  Crime|Horror|Thriller\n       movieId          title                         genres\n14456    72129  Saw VI (2009)  Crime|Horror|Mystery|Thriller\n"
    }
   ],
   "source": [
    "print(movies_df[movies_df['movieId']==movie_tags_df.index[x]])\n",
    "print(movies_df[movies_df['movieId']==movie_tags_df.index[y]])"
   ]
  },
  {
   "cell_type": "code",
   "execution_count": 11,
   "metadata": {},
   "outputs": [
    {
     "output_type": "execute_result",
     "data": {
      "text/plain": "1.1689048827856068"
     },
     "metadata": {},
     "execution_count": 11
    }
   ],
   "source": [
    "dist.min()"
   ]
  },
  {
   "cell_type": "code",
   "execution_count": 12,
   "metadata": {
    "tags": []
   },
   "outputs": [
    {
     "output_type": "stream",
     "name": "stdout",
     "text": "       movieId                        title       genres\n21078   102062  Band Called Death, A (2012)  Documentary\n       movieId                                              title  \\\n25628   117368  The Madagascar Penguins in a Christmas Caper (...   \n\n                 genres  \n25628  Animation|Comedy  \n"
    }
   ],
   "source": [
    "x, y = np.unravel_index(dist.argmax(), dist.shape)\n",
    "print(movies_df[movies_df['movieId']==movie_tags_df.index[x]])\n",
    "print(movies_df[movies_df['movieId']==movie_tags_df.index[y]])"
   ]
  },
  {
   "cell_type": "code",
   "execution_count": 13,
   "metadata": {},
   "outputs": [
    {
     "output_type": "execute_result",
     "data": {
      "text/plain": "12.397012848363927"
     },
     "metadata": {},
     "execution_count": 13
    }
   ],
   "source": [
    "dist.max()"
   ]
  },
  {
   "source": [
    "Look at diversity metric (average pairwise euclidian distance of the recommended movies)"
   ],
   "cell_type": "markdown",
   "metadata": {}
  },
  {
   "cell_type": "code",
   "execution_count": 34,
   "metadata": {},
   "outputs": [
    {
     "output_type": "execute_result",
     "data": {
      "text/plain": "     Unnamed: 0  Unnamed: 1  top_1  top_2  top_3  top_4   top_5  top_6  \\\n0       epoch_0   uid_61994   2186  58559   1527   2968    4011   1201   \n1       epoch_0  uid_220944    913   3089   2804   1036    3677     50   \n2       epoch_0  uid_217345    260   2571    858   1225    3435   1147   \n3       epoch_0   uid_27622   1208    908    272    924      58   1213   \n4       epoch_0   uid_56931   1090   1213    913    750   44555   1233   \n...         ...         ...    ...    ...    ...    ...     ...    ...   \n9995    epoch_9  uid_169602   8327  76111   1211   6858    6433   3077   \n9996    epoch_9  uid_210038   4881   7669   8327   4327   26662  27156   \n9997    epoch_9  uid_105962  27156   6858   1211   2925    6433   4881   \n9998    epoch_9  uid_241194   6433   5292   3006   6357  140174   3134   \n9999    epoch_9  uid_195895  27156   5292   6858   3134    6433  76111   \n\n       top_7  top_8   top_9  top_10  top_11  top_12  top_13  top_14  top_15  \n0       3089   4226    1095     922    8501    1208    8477   59315    5995  \n1        608   1225    1089    1090    4262    1172    1704    1213    1197  \n2      31658   1196     246    5690      50     913    1213     356    2959  \n3       4973    912    1203    2019    2973    1276    1247     750   44555  \n4       2186   1228    7156    1225    1178     858    1252    1203    3435  \n...      ...    ...     ...     ...     ...     ...     ...     ...     ...  \n9995    1242   1274    8501    1297    3947   94959    3429    6357      97  \n9996  140174  37741    1238    1241   86504  166643    4103    3429     899  \n9997    3134   3429    1297   37741    3681   76111   31410   26662      97  \n9998    7771   2925  166461    6858   98491    1211    1297    6787    3307  \n9999    3362   3077   55052    2132    6620    3429      97    3508    1237  \n\n[10000 rows x 17 columns]",
      "text/html": "<div>\n<style scoped>\n    .dataframe tbody tr th:only-of-type {\n        vertical-align: middle;\n    }\n\n    .dataframe tbody tr th {\n        vertical-align: top;\n    }\n\n    .dataframe thead th {\n        text-align: right;\n    }\n</style>\n<table border=\"1\" class=\"dataframe\">\n  <thead>\n    <tr style=\"text-align: right;\">\n      <th></th>\n      <th>Unnamed: 0</th>\n      <th>Unnamed: 1</th>\n      <th>top_1</th>\n      <th>top_2</th>\n      <th>top_3</th>\n      <th>top_4</th>\n      <th>top_5</th>\n      <th>top_6</th>\n      <th>top_7</th>\n      <th>top_8</th>\n      <th>top_9</th>\n      <th>top_10</th>\n      <th>top_11</th>\n      <th>top_12</th>\n      <th>top_13</th>\n      <th>top_14</th>\n      <th>top_15</th>\n    </tr>\n  </thead>\n  <tbody>\n    <tr>\n      <th>0</th>\n      <td>epoch_0</td>\n      <td>uid_61994</td>\n      <td>2186</td>\n      <td>58559</td>\n      <td>1527</td>\n      <td>2968</td>\n      <td>4011</td>\n      <td>1201</td>\n      <td>3089</td>\n      <td>4226</td>\n      <td>1095</td>\n      <td>922</td>\n      <td>8501</td>\n      <td>1208</td>\n      <td>8477</td>\n      <td>59315</td>\n      <td>5995</td>\n    </tr>\n    <tr>\n      <th>1</th>\n      <td>epoch_0</td>\n      <td>uid_220944</td>\n      <td>913</td>\n      <td>3089</td>\n      <td>2804</td>\n      <td>1036</td>\n      <td>3677</td>\n      <td>50</td>\n      <td>608</td>\n      <td>1225</td>\n      <td>1089</td>\n      <td>1090</td>\n      <td>4262</td>\n      <td>1172</td>\n      <td>1704</td>\n      <td>1213</td>\n      <td>1197</td>\n    </tr>\n    <tr>\n      <th>2</th>\n      <td>epoch_0</td>\n      <td>uid_217345</td>\n      <td>260</td>\n      <td>2571</td>\n      <td>858</td>\n      <td>1225</td>\n      <td>3435</td>\n      <td>1147</td>\n      <td>31658</td>\n      <td>1196</td>\n      <td>246</td>\n      <td>5690</td>\n      <td>50</td>\n      <td>913</td>\n      <td>1213</td>\n      <td>356</td>\n      <td>2959</td>\n    </tr>\n    <tr>\n      <th>3</th>\n      <td>epoch_0</td>\n      <td>uid_27622</td>\n      <td>1208</td>\n      <td>908</td>\n      <td>272</td>\n      <td>924</td>\n      <td>58</td>\n      <td>1213</td>\n      <td>4973</td>\n      <td>912</td>\n      <td>1203</td>\n      <td>2019</td>\n      <td>2973</td>\n      <td>1276</td>\n      <td>1247</td>\n      <td>750</td>\n      <td>44555</td>\n    </tr>\n    <tr>\n      <th>4</th>\n      <td>epoch_0</td>\n      <td>uid_56931</td>\n      <td>1090</td>\n      <td>1213</td>\n      <td>913</td>\n      <td>750</td>\n      <td>44555</td>\n      <td>1233</td>\n      <td>2186</td>\n      <td>1228</td>\n      <td>7156</td>\n      <td>1225</td>\n      <td>1178</td>\n      <td>858</td>\n      <td>1252</td>\n      <td>1203</td>\n      <td>3435</td>\n    </tr>\n    <tr>\n      <th>...</th>\n      <td>...</td>\n      <td>...</td>\n      <td>...</td>\n      <td>...</td>\n      <td>...</td>\n      <td>...</td>\n      <td>...</td>\n      <td>...</td>\n      <td>...</td>\n      <td>...</td>\n      <td>...</td>\n      <td>...</td>\n      <td>...</td>\n      <td>...</td>\n      <td>...</td>\n      <td>...</td>\n      <td>...</td>\n    </tr>\n    <tr>\n      <th>9995</th>\n      <td>epoch_9</td>\n      <td>uid_169602</td>\n      <td>8327</td>\n      <td>76111</td>\n      <td>1211</td>\n      <td>6858</td>\n      <td>6433</td>\n      <td>3077</td>\n      <td>1242</td>\n      <td>1274</td>\n      <td>8501</td>\n      <td>1297</td>\n      <td>3947</td>\n      <td>94959</td>\n      <td>3429</td>\n      <td>6357</td>\n      <td>97</td>\n    </tr>\n    <tr>\n      <th>9996</th>\n      <td>epoch_9</td>\n      <td>uid_210038</td>\n      <td>4881</td>\n      <td>7669</td>\n      <td>8327</td>\n      <td>4327</td>\n      <td>26662</td>\n      <td>27156</td>\n      <td>140174</td>\n      <td>37741</td>\n      <td>1238</td>\n      <td>1241</td>\n      <td>86504</td>\n      <td>166643</td>\n      <td>4103</td>\n      <td>3429</td>\n      <td>899</td>\n    </tr>\n    <tr>\n      <th>9997</th>\n      <td>epoch_9</td>\n      <td>uid_105962</td>\n      <td>27156</td>\n      <td>6858</td>\n      <td>1211</td>\n      <td>2925</td>\n      <td>6433</td>\n      <td>4881</td>\n      <td>3134</td>\n      <td>3429</td>\n      <td>1297</td>\n      <td>37741</td>\n      <td>3681</td>\n      <td>76111</td>\n      <td>31410</td>\n      <td>26662</td>\n      <td>97</td>\n    </tr>\n    <tr>\n      <th>9998</th>\n      <td>epoch_9</td>\n      <td>uid_241194</td>\n      <td>6433</td>\n      <td>5292</td>\n      <td>3006</td>\n      <td>6357</td>\n      <td>140174</td>\n      <td>3134</td>\n      <td>7771</td>\n      <td>2925</td>\n      <td>166461</td>\n      <td>6858</td>\n      <td>98491</td>\n      <td>1211</td>\n      <td>1297</td>\n      <td>6787</td>\n      <td>3307</td>\n    </tr>\n    <tr>\n      <th>9999</th>\n      <td>epoch_9</td>\n      <td>uid_195895</td>\n      <td>27156</td>\n      <td>5292</td>\n      <td>6858</td>\n      <td>3134</td>\n      <td>6433</td>\n      <td>76111</td>\n      <td>3362</td>\n      <td>3077</td>\n      <td>55052</td>\n      <td>2132</td>\n      <td>6620</td>\n      <td>3429</td>\n      <td>97</td>\n      <td>3508</td>\n      <td>1237</td>\n    </tr>\n  </tbody>\n</table>\n<p>10000 rows × 17 columns</p>\n</div>"
     },
     "metadata": {},
     "execution_count": 34
    }
   ],
   "source": [
    "evolution_df = pd.read_csv('Data/evolution_10_epochs.csv')\n",
    "evolution_df"
   ]
  },
  {
   "cell_type": "code",
   "execution_count": 35,
   "metadata": {},
   "outputs": [],
   "source": [
    "# Clean\n",
    "evolution_df.rename({'Unnamed: 0':'Epoch','Unnamed: 1':'userId'},axis='columns',inplace=True)\n",
    "evolution_df['userId'] = [int(s.split('_')[1]) for s in evolution_df['userId'].values]\n",
    "evolution_df['Epoch'] = [int(s.split('_')[1]) for s in evolution_df['Epoch'].values]"
   ]
  },
  {
   "cell_type": "code",
   "execution_count": 53,
   "metadata": {},
   "outputs": [
    {
     "output_type": "execute_result",
     "data": {
      "text/plain": "      Epoch  userId  top_1  top_2  top_3  top_4   top_5  top_6   top_7  top_8  \\\n0         0   61994   2186  58559   1527   2968    4011   1201    3089   4226   \n1         0  220944    913   3089   2804   1036    3677     50     608   1225   \n2         0  217345    260   2571    858   1225    3435   1147   31658   1196   \n3         0   27622   1208    908    272    924      58   1213    4973    912   \n4         0   56931   1090   1213    913    750   44555   1233    2186   1228   \n...     ...     ...    ...    ...    ...    ...     ...    ...     ...    ...   \n9995      9  169602   8327  76111   1211   6858    6433   3077    1242   1274   \n9996      9  210038   4881   7669   8327   4327   26662  27156  140174  37741   \n9997      9  105962  27156   6858   1211   2925    6433   4881    3134   3429   \n9998      9  241194   6433   5292   3006   6357  140174   3134    7771   2925   \n9999      9  195895  27156   5292   6858   3134    6433  76111    3362   3077   \n\n       top_9  top_10  top_11  top_12  top_13  top_14  top_15  \n0       1095     922    8501    1208    8477   59315    5995  \n1       1089    1090    4262    1172    1704    1213    1197  \n2        246    5690      50     913    1213     356    2959  \n3       1203    2019    2973    1276    1247     750   44555  \n4       7156    1225    1178     858    1252    1203    3435  \n...      ...     ...     ...     ...     ...     ...     ...  \n9995    8501    1297    3947   94959    3429    6357      97  \n9996    1238    1241   86504  166643    4103    3429     899  \n9997    1297   37741    3681   76111   31410   26662      97  \n9998  166461    6858   98491    1211    1297    6787    3307  \n9999   55052    2132    6620    3429      97    3508    1237  \n\n[10000 rows x 17 columns]",
      "text/html": "<div>\n<style scoped>\n    .dataframe tbody tr th:only-of-type {\n        vertical-align: middle;\n    }\n\n    .dataframe tbody tr th {\n        vertical-align: top;\n    }\n\n    .dataframe thead th {\n        text-align: right;\n    }\n</style>\n<table border=\"1\" class=\"dataframe\">\n  <thead>\n    <tr style=\"text-align: right;\">\n      <th></th>\n      <th>Epoch</th>\n      <th>userId</th>\n      <th>top_1</th>\n      <th>top_2</th>\n      <th>top_3</th>\n      <th>top_4</th>\n      <th>top_5</th>\n      <th>top_6</th>\n      <th>top_7</th>\n      <th>top_8</th>\n      <th>top_9</th>\n      <th>top_10</th>\n      <th>top_11</th>\n      <th>top_12</th>\n      <th>top_13</th>\n      <th>top_14</th>\n      <th>top_15</th>\n    </tr>\n  </thead>\n  <tbody>\n    <tr>\n      <th>0</th>\n      <td>0</td>\n      <td>61994</td>\n      <td>2186</td>\n      <td>58559</td>\n      <td>1527</td>\n      <td>2968</td>\n      <td>4011</td>\n      <td>1201</td>\n      <td>3089</td>\n      <td>4226</td>\n      <td>1095</td>\n      <td>922</td>\n      <td>8501</td>\n      <td>1208</td>\n      <td>8477</td>\n      <td>59315</td>\n      <td>5995</td>\n    </tr>\n    <tr>\n      <th>1</th>\n      <td>0</td>\n      <td>220944</td>\n      <td>913</td>\n      <td>3089</td>\n      <td>2804</td>\n      <td>1036</td>\n      <td>3677</td>\n      <td>50</td>\n      <td>608</td>\n      <td>1225</td>\n      <td>1089</td>\n      <td>1090</td>\n      <td>4262</td>\n      <td>1172</td>\n      <td>1704</td>\n      <td>1213</td>\n      <td>1197</td>\n    </tr>\n    <tr>\n      <th>2</th>\n      <td>0</td>\n      <td>217345</td>\n      <td>260</td>\n      <td>2571</td>\n      <td>858</td>\n      <td>1225</td>\n      <td>3435</td>\n      <td>1147</td>\n      <td>31658</td>\n      <td>1196</td>\n      <td>246</td>\n      <td>5690</td>\n      <td>50</td>\n      <td>913</td>\n      <td>1213</td>\n      <td>356</td>\n      <td>2959</td>\n    </tr>\n    <tr>\n      <th>3</th>\n      <td>0</td>\n      <td>27622</td>\n      <td>1208</td>\n      <td>908</td>\n      <td>272</td>\n      <td>924</td>\n      <td>58</td>\n      <td>1213</td>\n      <td>4973</td>\n      <td>912</td>\n      <td>1203</td>\n      <td>2019</td>\n      <td>2973</td>\n      <td>1276</td>\n      <td>1247</td>\n      <td>750</td>\n      <td>44555</td>\n    </tr>\n    <tr>\n      <th>4</th>\n      <td>0</td>\n      <td>56931</td>\n      <td>1090</td>\n      <td>1213</td>\n      <td>913</td>\n      <td>750</td>\n      <td>44555</td>\n      <td>1233</td>\n      <td>2186</td>\n      <td>1228</td>\n      <td>7156</td>\n      <td>1225</td>\n      <td>1178</td>\n      <td>858</td>\n      <td>1252</td>\n      <td>1203</td>\n      <td>3435</td>\n    </tr>\n    <tr>\n      <th>...</th>\n      <td>...</td>\n      <td>...</td>\n      <td>...</td>\n      <td>...</td>\n      <td>...</td>\n      <td>...</td>\n      <td>...</td>\n      <td>...</td>\n      <td>...</td>\n      <td>...</td>\n      <td>...</td>\n      <td>...</td>\n      <td>...</td>\n      <td>...</td>\n      <td>...</td>\n      <td>...</td>\n      <td>...</td>\n    </tr>\n    <tr>\n      <th>9995</th>\n      <td>9</td>\n      <td>169602</td>\n      <td>8327</td>\n      <td>76111</td>\n      <td>1211</td>\n      <td>6858</td>\n      <td>6433</td>\n      <td>3077</td>\n      <td>1242</td>\n      <td>1274</td>\n      <td>8501</td>\n      <td>1297</td>\n      <td>3947</td>\n      <td>94959</td>\n      <td>3429</td>\n      <td>6357</td>\n      <td>97</td>\n    </tr>\n    <tr>\n      <th>9996</th>\n      <td>9</td>\n      <td>210038</td>\n      <td>4881</td>\n      <td>7669</td>\n      <td>8327</td>\n      <td>4327</td>\n      <td>26662</td>\n      <td>27156</td>\n      <td>140174</td>\n      <td>37741</td>\n      <td>1238</td>\n      <td>1241</td>\n      <td>86504</td>\n      <td>166643</td>\n      <td>4103</td>\n      <td>3429</td>\n      <td>899</td>\n    </tr>\n    <tr>\n      <th>9997</th>\n      <td>9</td>\n      <td>105962</td>\n      <td>27156</td>\n      <td>6858</td>\n      <td>1211</td>\n      <td>2925</td>\n      <td>6433</td>\n      <td>4881</td>\n      <td>3134</td>\n      <td>3429</td>\n      <td>1297</td>\n      <td>37741</td>\n      <td>3681</td>\n      <td>76111</td>\n      <td>31410</td>\n      <td>26662</td>\n      <td>97</td>\n    </tr>\n    <tr>\n      <th>9998</th>\n      <td>9</td>\n      <td>241194</td>\n      <td>6433</td>\n      <td>5292</td>\n      <td>3006</td>\n      <td>6357</td>\n      <td>140174</td>\n      <td>3134</td>\n      <td>7771</td>\n      <td>2925</td>\n      <td>166461</td>\n      <td>6858</td>\n      <td>98491</td>\n      <td>1211</td>\n      <td>1297</td>\n      <td>6787</td>\n      <td>3307</td>\n    </tr>\n    <tr>\n      <th>9999</th>\n      <td>9</td>\n      <td>195895</td>\n      <td>27156</td>\n      <td>5292</td>\n      <td>6858</td>\n      <td>3134</td>\n      <td>6433</td>\n      <td>76111</td>\n      <td>3362</td>\n      <td>3077</td>\n      <td>55052</td>\n      <td>2132</td>\n      <td>6620</td>\n      <td>3429</td>\n      <td>97</td>\n      <td>3508</td>\n      <td>1237</td>\n    </tr>\n  </tbody>\n</table>\n<p>10000 rows × 17 columns</p>\n</div>"
     },
     "metadata": {},
     "execution_count": 53
    }
   ],
   "source": [
    "evolution_df"
   ]
  },
  {
   "cell_type": "code",
   "execution_count": 81,
   "metadata": {
    "tags": []
   },
   "outputs": [
    {
     "output_type": "execute_result",
     "data": {
      "text/plain": "6.845927750379381"
     },
     "metadata": {},
     "execution_count": 81
    }
   ],
   "source": [
    "def get_user_recommended_diversity(userID,epoch):\n",
    "    tdf = evolution_df[(evolution_df['Epoch']==epoch) & (evolution_df['userId']==userID)]\n",
    "    movies_list = tdf.drop(labels=['Epoch','userId'],axis=1).values[0]\n",
    "    # convert to list of indices into distance matrix\n",
    "    movies_list_idx = [movie_tags_df.index.get_loc(i) for i in movies_list]\n",
    "    return compute_average_diversity(movies_list_idx)\n",
    "\n",
    "def compute_average_diversity(movies_list_idx):\n",
    "    tot_dist = 0\n",
    "    count = 0\n",
    "    for i in itertools.combinations(movies_list_idx,2):\n",
    "        count += 1 \n",
    "        x,y = i\n",
    "        d = dist[x,y]\n",
    "        tot_dist+=d\n",
    "    return tot_dist/count\n",
    "\n",
    "avg_diversity = get_user_recommended_diversity(220944,0)\n",
    "avg_diversity"
   ]
  },
  {
   "cell_type": "code",
   "execution_count": 77,
   "metadata": {
    "tags": []
   },
   "outputs": [
    {
     "output_type": "stream",
     "name": "stdout",
     "text": "1000\n"
    },
    {
     "output_type": "execute_result",
     "data": {
      "text/plain": "array([ 61994, 220944, 217345,  27622,  56931, 104272,  33800, 281617,\n        40731, 136711, 268871, 189178, 130018, 235991, 131340,  63548,\n        31069, 142845, 105700, 100483, 222075,  96246,  72909, 182086,\n       117499,  59069, 144392, 281750, 185517, 172268, 139375, 160160,\n       182191,  81722, 150316,  31272, 218205,  45982,  99179,  43327,\n       280064, 200192,  24122, 113552, 175763,  39959,  63238, 249529,\n          748, 215763, 231551, 110271, 101429,  52650, 197193, 225970,\n        33926, 150251, 103854, 132779, 212322,  36770, 261637,  90215,\n       241744,  91531, 180501, 165104, 215924, 217725, 101446, 114166,\n       283021, 216895, 197753,  23256, 205381, 177880,  66317, 125895,\n       134074, 275976, 208916,  83617,  75949, 221587,  30248, 102299,\n        44466,  38872, 243269,    624,  21095, 238153, 139455, 195785,\n       181575, 106046,  86616, 207160,  89181,  81149,  71028, 174431,\n       250858, 246736,   2175, 114220, 128879, 128927, 184291, 262921,\n       193187,  77987,  32838, 267855,  64205, 120868, 115063,  88240,\n       227663,  67746, 205335, 246479, 161849, 252243, 266395,   8354,\n       264276, 195677, 174641, 238158, 248303, 113468,  45137,  15975,\n        14547,  85568, 243580, 244349, 103014, 278711,  55391, 256508,\n        80107,  46062,  93110,  49237, 125454, 206724, 185779, 118134,\n       106444, 161274, 163617, 108491, 138559,  28128,   3141, 224299,\n       148427, 203212, 205717, 132874, 141460, 221131, 117538,  84946,\n       114532, 152288,  44301, 154994,  83094,  34091, 131167, 259908,\n         1214, 234975, 256412, 261500, 170818,  14500,  42909, 108198,\n       164898, 249754, 121537, 211061,  90813, 118902,  80518, 117441,\n        75266, 234808, 274502,  58288,  52285,  74247,  84229,  18197,\n       139688, 251136, 212275, 232590, 156865, 235503,  55268,  73865,\n       194703, 257405,  36332,  45307, 258594, 106619,  19212, 156189,\n       170757, 133562, 258517, 251434,  28650, 193257, 270469,  93240,\n        92123, 111984, 204229,  87256, 225935, 219397,  73615,  30624,\n       217028, 171966, 149706, 230798, 138371, 135337, 108415,  48533,\n        46964, 253789, 126187, 186739, 164044, 196808, 198632, 213543,\n       270726, 267469, 160935, 274331, 224142,   4041,   7603, 126163,\n       105706,  38615,  97303, 154152, 205405, 176615,  91086, 235778,\n       143539,  24501,  56233,  21664, 212634, 161056,  38638,  72086,\n        33737,  27324, 172642, 234060,  84932, 142238, 259345, 130392,\n        61643, 186291, 100183, 124313, 114704, 250952, 199689, 150596,\n        87716, 112633, 151735, 234482,  83002, 136473, 200279, 264234,\n       257842,  69760,  11003, 170867, 168288, 125113, 159696,  13940,\n        14328, 217064,  77045, 247872, 266132,  14784,  76098,  38500,\n        62666,  28759, 135170, 187858, 200578, 211319, 221404, 129817,\n       218471,  19688, 144094, 266834, 129495,  57389, 134771, 142203,\n        20792, 243532,  71286, 217051, 147921,  64099, 144013, 258778,\n       255905,  48416, 137243, 206530, 232580, 252146,  51150,  66345,\n       225655,  17433, 217354, 160943, 271203, 249830, 280571, 182193,\n        78616,  44405,  80285, 178774,  63059,  37098, 207409, 252667,\n       274046, 234957, 134374,  66096,  10185, 224499, 233444, 218820,\n        48852,  27715,  94464, 222204, 278246,  61052,  31296, 105548,\n       132551,  74745, 172452,  95107, 216188, 109882, 198243, 201718,\n       270994, 261665, 212707, 168749,  77069, 183026, 219122, 141720,\n       133042, 157923, 255743, 174195, 172269, 250989, 207581, 152087,\n        11466, 158540, 216453, 280177,  15017, 161467, 187081,  79260,\n       236156, 223888, 214563, 177740, 237989, 179217, 116953, 254000,\n       153846, 198711,  39993, 105877, 248416, 202044, 125989, 217658,\n       260513, 261085,  41105,    906,  80513, 210469, 218424, 143121,\n       187613, 238832, 252157,  98956, 230908, 105042, 226030, 236409,\n       163197, 114424, 213891, 183405, 168436, 117652, 107195, 106820,\n        48036, 191922,  55990,  41170,  65987, 248969, 277473,   2958,\n        13399,  10485, 251279,  75914,  47731, 196152, 245092, 235581,\n        46231, 121515, 235862, 179348, 124436, 276640, 134414,  24117,\n        43886,  86253,  21148, 208872, 181038, 224989,  50890, 113534,\n       112668, 162033, 160088,  78823, 273641,  56417,  75544,  99639,\n         1912, 192578, 244133, 236308, 170221, 262101, 222371, 167503,\n        55482, 208700, 153483,  18982, 175686, 171534, 256467, 281921,\n       147876,  88144, 257935, 264864,  25599, 227146, 218183, 123201,\n        29187,  73235,  47074, 117596,  53753, 106785,  55580, 112132,\n        13513, 140062, 211624, 185500, 267767, 142397, 278693, 113271,\n         7869, 159423, 107993, 253077,  44590,  76016, 139211,  84514,\n        95368, 246004, 267051, 135184, 196069, 195772,  49544, 223296,\n        92295, 251978, 274553, 124266,  47579, 131120,  67128, 144841,\n       230386, 273145, 210364, 201752,  23591, 277128,  56039, 229218,\n        21415, 201645,  67957, 275144, 155229, 272618,   1922, 236866,\n       135514, 182001, 171375,  30104,  46408, 253579, 189991, 182429,\n       131365,   7243, 137372,  25994, 112877, 109304, 115002, 177942,\n       278085,  61472, 101441, 109203, 267635,  26875,  60262,  38960,\n       116004, 235955, 146189,  64640,  37442, 269026,  29883, 260525,\n       118447, 218280,  93497, 202506, 110972, 105271, 125151, 251024,\n       212612, 221491, 131832,   4708, 144242,  29517, 152391,  65690,\n       219642, 249152, 187988,  97953, 145290, 107570, 101293, 151471,\n       169795, 283218, 193033, 123569,  22712, 117292, 143193,  10204,\n       227322, 196656, 272696, 151236,  23611, 210595, 247806, 267694,\n       242600,  41254, 175105, 216870, 186667, 227678, 116366, 240561,\n        19215, 121684, 275345, 119329,  24448, 269784, 206348,  86389,\n       265261,  72423,  69351, 244690, 120976, 203899, 231848, 260048,\n        79409, 272545, 155928,  46026, 270833, 144052,  10818, 148203,\n       247559,  92729, 152763, 201617, 164908, 236178, 216820, 271894,\n       194770, 148495,  81021, 240260,  82827, 270570, 241967, 137378,\n       259859, 140261,  68860, 266526,  28168, 183117, 187108, 223841,\n        13959, 139680,  12298, 217088, 243076, 236280, 121076, 163582,\n       114843, 203191, 276733,   5767, 196079, 210611,  15997,  49312,\n       259870,  39049, 218763, 261623, 102943, 267661, 151865,  31912,\n       277470,  30274, 152142, 238022, 200491, 236776, 135250, 138076,\n       121667, 216871,   3180,   1469,  52540,  91308,  77467,  89067,\n       165287,  94004, 251837,  77037, 124993,  10652,  39745,  76309,\n       276764, 261513, 117981,  41276, 216641, 155307, 203822, 180258,\n       240009, 123972,  62785, 109349, 259658, 230574,  52592,  18534,\n       112116, 239640, 192973, 148344, 256832, 155121, 202691,  66708,\n       139501, 113622,  93640, 228115, 119352, 239134, 157882,  72130,\n       190577, 226980, 250183,  46457, 213011,  74379, 149160,  42236,\n       215769, 198159, 137686,   7968, 104868, 255985, 114957, 255647,\n       186371, 122490,  82251, 119000, 226691, 263559, 128077, 180654,\n        21326, 262435, 246191, 184605,  38773,  29094,  58141, 146363,\n       225497,  55773, 172372, 218701, 194760, 182476, 175031, 104201,\n       234188,  54687, 186270, 123970,  82731, 118042, 109961, 235612,\n       102966,   4221,  25495,  32416, 261112, 183017, 108295,  35693,\n       167643,  22801,  86068,  65674, 192175, 267738,  37520, 242691,\n        94300, 177342, 251443, 267579, 181372,  86387, 154336, 109510,\n       187073, 112765,  26227, 182979,  21246,   2698, 186427,  32378,\n        99241, 248652, 243360,   4276,  54185, 215006, 252894, 157236,\n       207239,  62581, 198602, 174989,  33833,  81131, 170194, 167792,\n       259585,  53151, 117554, 278086, 104708,  93416, 169778, 109523,\n       205098, 173442,  23884, 181133,  49660,  98843,   5643,  53813,\n         1901,  45707, 133490, 150711, 115004,   6546, 272316, 112482,\n       234729, 205278, 262072,   2557, 237231, 114652, 194671,  50967,\n       140250,   6231,  98791, 134529, 138286, 165554, 147383,  27630,\n       276546, 249888, 156988, 178614, 262772, 186109, 263542,  93535,\n       244479,  54461, 157092, 113103,  65056, 113907, 155000, 161213,\n       128009,  13906, 199141,  50010, 184054, 266090,  44865, 163341,\n       154231, 257063, 148465, 116208,  85942,  79431, 180949,  61020,\n       219991,   7930, 114662, 277362, 242880, 201710,  32847, 108662,\n       167668,   5561, 225825, 231174, 265901, 253058,  54814,  82744,\n       140167,  86771,  85800, 127241, 175443,  85575, 273933, 188535,\n       182266,  87057, 272282, 261614,  62201,  33756, 193608,  90522,\n       197859,  25766, 143413,  47499, 139704,  77754,  77501,  26804,\n        17171,  35332, 196922, 270860, 212017, 197438,  36890,  59156,\n       145930, 112936,  20685, 169602, 210038, 105962, 241194, 195895],\n      dtype=int64)"
     },
     "metadata": {},
     "execution_count": 77
    }
   ],
   "source": [
    "unique_users = evolution_df.userId.unique()\n",
    "print(len(unique_users))\n",
    "unique_users"
   ]
  },
  {
   "cell_type": "code",
   "execution_count": 91,
   "metadata": {},
   "outputs": [],
   "source": [
    "unique_users = [22712]"
   ]
  },
  {
   "cell_type": "code",
   "execution_count": 92,
   "metadata": {
    "tags": []
   },
   "outputs": [
    {
     "output_type": "stream",
     "name": "stderr",
     "text": "100%|██████████| 9/9 [00:00&lt;00:00, 429.71it/s]Epoch:0\nEpoch:1\nEpoch:2\nEpoch:3\nEpoch:4\nEpoch:5\nEpoch:6\nEpoch:7\nEpoch:8\n\n"
    }
   ],
   "source": [
    "epochs = np.arange(0,9)\n",
    "N = len(unique_users)\n",
    "diversities = []\n",
    "for i in tqdm(range(0,9)):\n",
    "    print(\"Epoch:{}\".format(i))\n",
    "    tot_diversity = 0\n",
    "    for user in unique_users:\n",
    "        user_diversity = get_user_recommended_diversity(user,i)\n",
    "        tot_diversity+=user_diversity\n",
    "    diversities.append(tot_diversity/N)\n"
   ]
  },
  {
   "cell_type": "code",
   "execution_count": 93,
   "metadata": {},
   "outputs": [
    {
     "output_type": "execute_result",
     "data": {
      "text/plain": "[&lt;matplotlib.lines.Line2D at 0x1fed2e1eb50&gt;]"
     },
     "metadata": {},
     "execution_count": 93
    },
    {
     "output_type": "display_data",
     "data": {
      "text/plain": "&lt;Figure size 432x288 with 1 Axes&gt;",
      "image/svg+xml": "<?xml version=\"1.0\" encoding=\"utf-8\" standalone=\"no\"?>\r\n<!DOCTYPE svg PUBLIC \"-//W3C//DTD SVG 1.1//EN\"\r\n  \"http://www.w3.org/Graphics/SVG/1.1/DTD/svg11.dtd\">\r\n<!-- Created with matplotlib (https://matplotlib.org/) -->\r\n<svg height=\"248.518125pt\" version=\"1.1\" viewBox=\"0 0 372.103125 248.518125\" width=\"372.103125pt\" xmlns=\"http://www.w3.org/2000/svg\" xmlns:xlink=\"http://www.w3.org/1999/xlink\">\r\n <metadata>\r\n  <rdf:RDF xmlns:cc=\"http://creativecommons.org/ns#\" xmlns:dc=\"http://purl.org/dc/elements/1.1/\" xmlns:rdf=\"http://www.w3.org/1999/02/22-rdf-syntax-ns#\">\r\n   <cc:Work>\r\n    <dc:type rdf:resource=\"http://purl.org/dc/dcmitype/StillImage\"/>\r\n    <dc:date>2020-10-02T19:25:13.728820</dc:date>\r\n    <dc:format>image/svg+xml</dc:format>\r\n    <dc:creator>\r\n     <cc:Agent>\r\n      <dc:title>Matplotlib v3.3.2, https://matplotlib.org/</dc:title>\r\n     </cc:Agent>\r\n    </dc:creator>\r\n   </cc:Work>\r\n  </rdf:RDF>\r\n </metadata>\r\n <defs>\r\n  <style type=\"text/css\">*{stroke-linecap:butt;stroke-linejoin:round;}</style>\r\n </defs>\r\n <g id=\"figure_1\">\r\n  <g id=\"patch_1\">\r\n   <path d=\"M 0 248.518125 \r\nL 372.103125 248.518125 \r\nL 372.103125 0 \r\nL 0 0 \r\nz\r\n\" style=\"fill:none;\"/>\r\n  </g>\r\n  <g id=\"axes_1\">\r\n   <g id=\"patch_2\">\r\n    <path d=\"M 30.103125 224.64 \r\nL 364.903125 224.64 \r\nL 364.903125 7.2 \r\nL 30.103125 7.2 \r\nz\r\n\" style=\"fill:#ffffff;\"/>\r\n   </g>\r\n   <g id=\"matplotlib.axis_1\">\r\n    <g id=\"xtick_1\">\r\n     <g id=\"line2d_1\">\r\n      <defs>\r\n       <path d=\"M 0 0 \r\nL 0 3.5 \r\n\" id=\"m9202c62091\" style=\"stroke:#000000;stroke-width:0.8;\"/>\r\n      </defs>\r\n      <g>\r\n       <use style=\"stroke:#000000;stroke-width:0.8;\" x=\"45.321307\" xlink:href=\"#m9202c62091\" y=\"224.64\"/>\r\n      </g>\r\n     </g>\r\n     <g id=\"text_1\">\r\n      <!-- 0 -->\r\n      <g transform=\"translate(42.140057 239.238438)scale(0.1 -0.1)\">\r\n       <defs>\r\n        <path d=\"M 31.78125 66.40625 \r\nQ 24.171875 66.40625 20.328125 58.90625 \r\nQ 16.5 51.421875 16.5 36.375 \r\nQ 16.5 21.390625 20.328125 13.890625 \r\nQ 24.171875 6.390625 31.78125 6.390625 \r\nQ 39.453125 6.390625 43.28125 13.890625 \r\nQ 47.125 21.390625 47.125 36.375 \r\nQ 47.125 51.421875 43.28125 58.90625 \r\nQ 39.453125 66.40625 31.78125 66.40625 \r\nz\r\nM 31.78125 74.21875 \r\nQ 44.046875 74.21875 50.515625 64.515625 \r\nQ 56.984375 54.828125 56.984375 36.375 \r\nQ 56.984375 17.96875 50.515625 8.265625 \r\nQ 44.046875 -1.421875 31.78125 -1.421875 \r\nQ 19.53125 -1.421875 13.0625 8.265625 \r\nQ 6.59375 17.96875 6.59375 36.375 \r\nQ 6.59375 54.828125 13.0625 64.515625 \r\nQ 19.53125 74.21875 31.78125 74.21875 \r\nz\r\n\" id=\"DejaVuSans-48\"/>\r\n       </defs>\r\n       <use xlink:href=\"#DejaVuSans-48\"/>\r\n      </g>\r\n     </g>\r\n    </g>\r\n    <g id=\"xtick_2\">\r\n     <g id=\"line2d_2\">\r\n      <g>\r\n       <use style=\"stroke:#000000;stroke-width:0.8;\" x=\"83.366761\" xlink:href=\"#m9202c62091\" y=\"224.64\"/>\r\n      </g>\r\n     </g>\r\n     <g id=\"text_2\">\r\n      <!-- 1 -->\r\n      <g transform=\"translate(80.185511 239.238438)scale(0.1 -0.1)\">\r\n       <defs>\r\n        <path d=\"M 12.40625 8.296875 \r\nL 28.515625 8.296875 \r\nL 28.515625 63.921875 \r\nL 10.984375 60.40625 \r\nL 10.984375 69.390625 \r\nL 28.421875 72.90625 \r\nL 38.28125 72.90625 \r\nL 38.28125 8.296875 \r\nL 54.390625 8.296875 \r\nL 54.390625 0 \r\nL 12.40625 0 \r\nz\r\n\" id=\"DejaVuSans-49\"/>\r\n       </defs>\r\n       <use xlink:href=\"#DejaVuSans-49\"/>\r\n      </g>\r\n     </g>\r\n    </g>\r\n    <g id=\"xtick_3\">\r\n     <g id=\"line2d_3\">\r\n      <g>\r\n       <use style=\"stroke:#000000;stroke-width:0.8;\" x=\"121.412216\" xlink:href=\"#m9202c62091\" y=\"224.64\"/>\r\n      </g>\r\n     </g>\r\n     <g id=\"text_3\">\r\n      <!-- 2 -->\r\n      <g transform=\"translate(118.230966 239.238438)scale(0.1 -0.1)\">\r\n       <defs>\r\n        <path d=\"M 19.1875 8.296875 \r\nL 53.609375 8.296875 \r\nL 53.609375 0 \r\nL 7.328125 0 \r\nL 7.328125 8.296875 \r\nQ 12.9375 14.109375 22.625 23.890625 \r\nQ 32.328125 33.6875 34.8125 36.53125 \r\nQ 39.546875 41.84375 41.421875 45.53125 \r\nQ 43.3125 49.21875 43.3125 52.78125 \r\nQ 43.3125 58.59375 39.234375 62.25 \r\nQ 35.15625 65.921875 28.609375 65.921875 \r\nQ 23.96875 65.921875 18.8125 64.3125 \r\nQ 13.671875 62.703125 7.8125 59.421875 \r\nL 7.8125 69.390625 \r\nQ 13.765625 71.78125 18.9375 73 \r\nQ 24.125 74.21875 28.421875 74.21875 \r\nQ 39.75 74.21875 46.484375 68.546875 \r\nQ 53.21875 62.890625 53.21875 53.421875 \r\nQ 53.21875 48.921875 51.53125 44.890625 \r\nQ 49.859375 40.875 45.40625 35.40625 \r\nQ 44.1875 33.984375 37.640625 27.21875 \r\nQ 31.109375 20.453125 19.1875 8.296875 \r\nz\r\n\" id=\"DejaVuSans-50\"/>\r\n       </defs>\r\n       <use xlink:href=\"#DejaVuSans-50\"/>\r\n      </g>\r\n     </g>\r\n    </g>\r\n    <g id=\"xtick_4\">\r\n     <g id=\"line2d_4\">\r\n      <g>\r\n       <use style=\"stroke:#000000;stroke-width:0.8;\" x=\"159.45767\" xlink:href=\"#m9202c62091\" y=\"224.64\"/>\r\n      </g>\r\n     </g>\r\n     <g id=\"text_4\">\r\n      <!-- 3 -->\r\n      <g transform=\"translate(156.27642 239.238438)scale(0.1 -0.1)\">\r\n       <defs>\r\n        <path d=\"M 40.578125 39.3125 \r\nQ 47.65625 37.796875 51.625 33 \r\nQ 55.609375 28.21875 55.609375 21.1875 \r\nQ 55.609375 10.40625 48.1875 4.484375 \r\nQ 40.765625 -1.421875 27.09375 -1.421875 \r\nQ 22.515625 -1.421875 17.65625 -0.515625 \r\nQ 12.796875 0.390625 7.625 2.203125 \r\nL 7.625 11.71875 \r\nQ 11.71875 9.328125 16.59375 8.109375 \r\nQ 21.484375 6.890625 26.8125 6.890625 \r\nQ 36.078125 6.890625 40.9375 10.546875 \r\nQ 45.796875 14.203125 45.796875 21.1875 \r\nQ 45.796875 27.640625 41.28125 31.265625 \r\nQ 36.765625 34.90625 28.71875 34.90625 \r\nL 20.21875 34.90625 \r\nL 20.21875 43.015625 \r\nL 29.109375 43.015625 \r\nQ 36.375 43.015625 40.234375 45.921875 \r\nQ 44.09375 48.828125 44.09375 54.296875 \r\nQ 44.09375 59.90625 40.109375 62.90625 \r\nQ 36.140625 65.921875 28.71875 65.921875 \r\nQ 24.65625 65.921875 20.015625 65.03125 \r\nQ 15.375 64.15625 9.8125 62.3125 \r\nL 9.8125 71.09375 \r\nQ 15.4375 72.65625 20.34375 73.4375 \r\nQ 25.25 74.21875 29.59375 74.21875 \r\nQ 40.828125 74.21875 47.359375 69.109375 \r\nQ 53.90625 64.015625 53.90625 55.328125 \r\nQ 53.90625 49.265625 50.4375 45.09375 \r\nQ 46.96875 40.921875 40.578125 39.3125 \r\nz\r\n\" id=\"DejaVuSans-51\"/>\r\n       </defs>\r\n       <use xlink:href=\"#DejaVuSans-51\"/>\r\n      </g>\r\n     </g>\r\n    </g>\r\n    <g id=\"xtick_5\">\r\n     <g id=\"line2d_5\">\r\n      <g>\r\n       <use style=\"stroke:#000000;stroke-width:0.8;\" x=\"197.503125\" xlink:href=\"#m9202c62091\" y=\"224.64\"/>\r\n      </g>\r\n     </g>\r\n     <g id=\"text_5\">\r\n      <!-- 4 -->\r\n      <g transform=\"translate(194.321875 239.238438)scale(0.1 -0.1)\">\r\n       <defs>\r\n        <path d=\"M 37.796875 64.3125 \r\nL 12.890625 25.390625 \r\nL 37.796875 25.390625 \r\nz\r\nM 35.203125 72.90625 \r\nL 47.609375 72.90625 \r\nL 47.609375 25.390625 \r\nL 58.015625 25.390625 \r\nL 58.015625 17.1875 \r\nL 47.609375 17.1875 \r\nL 47.609375 0 \r\nL 37.796875 0 \r\nL 37.796875 17.1875 \r\nL 4.890625 17.1875 \r\nL 4.890625 26.703125 \r\nz\r\n\" id=\"DejaVuSans-52\"/>\r\n       </defs>\r\n       <use xlink:href=\"#DejaVuSans-52\"/>\r\n      </g>\r\n     </g>\r\n    </g>\r\n    <g id=\"xtick_6\">\r\n     <g id=\"line2d_6\">\r\n      <g>\r\n       <use style=\"stroke:#000000;stroke-width:0.8;\" x=\"235.54858\" xlink:href=\"#m9202c62091\" y=\"224.64\"/>\r\n      </g>\r\n     </g>\r\n     <g id=\"text_6\">\r\n      <!-- 5 -->\r\n      <g transform=\"translate(232.36733 239.238438)scale(0.1 -0.1)\">\r\n       <defs>\r\n        <path d=\"M 10.796875 72.90625 \r\nL 49.515625 72.90625 \r\nL 49.515625 64.59375 \r\nL 19.828125 64.59375 \r\nL 19.828125 46.734375 \r\nQ 21.96875 47.46875 24.109375 47.828125 \r\nQ 26.265625 48.1875 28.421875 48.1875 \r\nQ 40.625 48.1875 47.75 41.5 \r\nQ 54.890625 34.8125 54.890625 23.390625 \r\nQ 54.890625 11.625 47.5625 5.09375 \r\nQ 40.234375 -1.421875 26.90625 -1.421875 \r\nQ 22.3125 -1.421875 17.546875 -0.640625 \r\nQ 12.796875 0.140625 7.71875 1.703125 \r\nL 7.71875 11.625 \r\nQ 12.109375 9.234375 16.796875 8.0625 \r\nQ 21.484375 6.890625 26.703125 6.890625 \r\nQ 35.15625 6.890625 40.078125 11.328125 \r\nQ 45.015625 15.765625 45.015625 23.390625 \r\nQ 45.015625 31 40.078125 35.4375 \r\nQ 35.15625 39.890625 26.703125 39.890625 \r\nQ 22.75 39.890625 18.8125 39.015625 \r\nQ 14.890625 38.140625 10.796875 36.28125 \r\nz\r\n\" id=\"DejaVuSans-53\"/>\r\n       </defs>\r\n       <use xlink:href=\"#DejaVuSans-53\"/>\r\n      </g>\r\n     </g>\r\n    </g>\r\n    <g id=\"xtick_7\">\r\n     <g id=\"line2d_7\">\r\n      <g>\r\n       <use style=\"stroke:#000000;stroke-width:0.8;\" x=\"273.594034\" xlink:href=\"#m9202c62091\" y=\"224.64\"/>\r\n      </g>\r\n     </g>\r\n     <g id=\"text_7\">\r\n      <!-- 6 -->\r\n      <g transform=\"translate(270.412784 239.238438)scale(0.1 -0.1)\">\r\n       <defs>\r\n        <path d=\"M 33.015625 40.375 \r\nQ 26.375 40.375 22.484375 35.828125 \r\nQ 18.609375 31.296875 18.609375 23.390625 \r\nQ 18.609375 15.53125 22.484375 10.953125 \r\nQ 26.375 6.390625 33.015625 6.390625 \r\nQ 39.65625 6.390625 43.53125 10.953125 \r\nQ 47.40625 15.53125 47.40625 23.390625 \r\nQ 47.40625 31.296875 43.53125 35.828125 \r\nQ 39.65625 40.375 33.015625 40.375 \r\nz\r\nM 52.59375 71.296875 \r\nL 52.59375 62.3125 \r\nQ 48.875 64.0625 45.09375 64.984375 \r\nQ 41.3125 65.921875 37.59375 65.921875 \r\nQ 27.828125 65.921875 22.671875 59.328125 \r\nQ 17.53125 52.734375 16.796875 39.40625 \r\nQ 19.671875 43.65625 24.015625 45.921875 \r\nQ 28.375 48.1875 33.59375 48.1875 \r\nQ 44.578125 48.1875 50.953125 41.515625 \r\nQ 57.328125 34.859375 57.328125 23.390625 \r\nQ 57.328125 12.15625 50.6875 5.359375 \r\nQ 44.046875 -1.421875 33.015625 -1.421875 \r\nQ 20.359375 -1.421875 13.671875 8.265625 \r\nQ 6.984375 17.96875 6.984375 36.375 \r\nQ 6.984375 53.65625 15.1875 63.9375 \r\nQ 23.390625 74.21875 37.203125 74.21875 \r\nQ 40.921875 74.21875 44.703125 73.484375 \r\nQ 48.484375 72.75 52.59375 71.296875 \r\nz\r\n\" id=\"DejaVuSans-54\"/>\r\n       </defs>\r\n       <use xlink:href=\"#DejaVuSans-54\"/>\r\n      </g>\r\n     </g>\r\n    </g>\r\n    <g id=\"xtick_8\">\r\n     <g id=\"line2d_8\">\r\n      <g>\r\n       <use style=\"stroke:#000000;stroke-width:0.8;\" x=\"311.639489\" xlink:href=\"#m9202c62091\" y=\"224.64\"/>\r\n      </g>\r\n     </g>\r\n     <g id=\"text_8\">\r\n      <!-- 7 -->\r\n      <g transform=\"translate(308.458239 239.238438)scale(0.1 -0.1)\">\r\n       <defs>\r\n        <path d=\"M 8.203125 72.90625 \r\nL 55.078125 72.90625 \r\nL 55.078125 68.703125 \r\nL 28.609375 0 \r\nL 18.3125 0 \r\nL 43.21875 64.59375 \r\nL 8.203125 64.59375 \r\nz\r\n\" id=\"DejaVuSans-55\"/>\r\n       </defs>\r\n       <use xlink:href=\"#DejaVuSans-55\"/>\r\n      </g>\r\n     </g>\r\n    </g>\r\n    <g id=\"xtick_9\">\r\n     <g id=\"line2d_9\">\r\n      <g>\r\n       <use style=\"stroke:#000000;stroke-width:0.8;\" x=\"349.684943\" xlink:href=\"#m9202c62091\" y=\"224.64\"/>\r\n      </g>\r\n     </g>\r\n     <g id=\"text_9\">\r\n      <!-- 8 -->\r\n      <g transform=\"translate(346.503693 239.238438)scale(0.1 -0.1)\">\r\n       <defs>\r\n        <path d=\"M 31.78125 34.625 \r\nQ 24.75 34.625 20.71875 30.859375 \r\nQ 16.703125 27.09375 16.703125 20.515625 \r\nQ 16.703125 13.921875 20.71875 10.15625 \r\nQ 24.75 6.390625 31.78125 6.390625 \r\nQ 38.8125 6.390625 42.859375 10.171875 \r\nQ 46.921875 13.96875 46.921875 20.515625 \r\nQ 46.921875 27.09375 42.890625 30.859375 \r\nQ 38.875 34.625 31.78125 34.625 \r\nz\r\nM 21.921875 38.8125 \r\nQ 15.578125 40.375 12.03125 44.71875 \r\nQ 8.5 49.078125 8.5 55.328125 \r\nQ 8.5 64.0625 14.71875 69.140625 \r\nQ 20.953125 74.21875 31.78125 74.21875 \r\nQ 42.671875 74.21875 48.875 69.140625 \r\nQ 55.078125 64.0625 55.078125 55.328125 \r\nQ 55.078125 49.078125 51.53125 44.71875 \r\nQ 48 40.375 41.703125 38.8125 \r\nQ 48.828125 37.15625 52.796875 32.3125 \r\nQ 56.78125 27.484375 56.78125 20.515625 \r\nQ 56.78125 9.90625 50.3125 4.234375 \r\nQ 43.84375 -1.421875 31.78125 -1.421875 \r\nQ 19.734375 -1.421875 13.25 4.234375 \r\nQ 6.78125 9.90625 6.78125 20.515625 \r\nQ 6.78125 27.484375 10.78125 32.3125 \r\nQ 14.796875 37.15625 21.921875 38.8125 \r\nz\r\nM 18.3125 54.390625 \r\nQ 18.3125 48.734375 21.84375 45.5625 \r\nQ 25.390625 42.390625 31.78125 42.390625 \r\nQ 38.140625 42.390625 41.71875 45.5625 \r\nQ 45.3125 48.734375 45.3125 54.390625 \r\nQ 45.3125 60.0625 41.71875 63.234375 \r\nQ 38.140625 66.40625 31.78125 66.40625 \r\nQ 25.390625 66.40625 21.84375 63.234375 \r\nQ 18.3125 60.0625 18.3125 54.390625 \r\nz\r\n\" id=\"DejaVuSans-56\"/>\r\n       </defs>\r\n       <use xlink:href=\"#DejaVuSans-56\"/>\r\n      </g>\r\n     </g>\r\n    </g>\r\n   </g>\r\n   <g id=\"matplotlib.axis_2\">\r\n    <g id=\"ytick_1\">\r\n     <g id=\"line2d_10\">\r\n      <defs>\r\n       <path d=\"M 0 0 \r\nL -3.5 0 \r\n\" id=\"m92e750c9ea\" style=\"stroke:#000000;stroke-width:0.8;\"/>\r\n      </defs>\r\n      <g>\r\n       <use style=\"stroke:#000000;stroke-width:0.8;\" x=\"30.103125\" xlink:href=\"#m92e750c9ea\" y=\"210.20973\"/>\r\n      </g>\r\n     </g>\r\n     <g id=\"text_10\">\r\n      <!-- 5.8 -->\r\n      <g transform=\"translate(7.2 214.008949)scale(0.1 -0.1)\">\r\n       <defs>\r\n        <path d=\"M 10.6875 12.40625 \r\nL 21 12.40625 \r\nL 21 0 \r\nL 10.6875 0 \r\nz\r\n\" id=\"DejaVuSans-46\"/>\r\n       </defs>\r\n       <use xlink:href=\"#DejaVuSans-53\"/>\r\n       <use x=\"63.623047\" xlink:href=\"#DejaVuSans-46\"/>\r\n       <use x=\"95.410156\" xlink:href=\"#DejaVuSans-56\"/>\r\n      </g>\r\n     </g>\r\n    </g>\r\n    <g id=\"ytick_2\">\r\n     <g id=\"line2d_11\">\r\n      <g>\r\n       <use style=\"stroke:#000000;stroke-width:0.8;\" x=\"30.103125\" xlink:href=\"#m92e750c9ea\" y=\"168.657608\"/>\r\n      </g>\r\n     </g>\r\n     <g id=\"text_11\">\r\n      <!-- 6.0 -->\r\n      <g transform=\"translate(7.2 172.456827)scale(0.1 -0.1)\">\r\n       <use xlink:href=\"#DejaVuSans-54\"/>\r\n       <use x=\"63.623047\" xlink:href=\"#DejaVuSans-46\"/>\r\n       <use x=\"95.410156\" xlink:href=\"#DejaVuSans-48\"/>\r\n      </g>\r\n     </g>\r\n    </g>\r\n    <g id=\"ytick_3\">\r\n     <g id=\"line2d_12\">\r\n      <g>\r\n       <use style=\"stroke:#000000;stroke-width:0.8;\" x=\"30.103125\" xlink:href=\"#m92e750c9ea\" y=\"127.105486\"/>\r\n      </g>\r\n     </g>\r\n     <g id=\"text_12\">\r\n      <!-- 6.2 -->\r\n      <g transform=\"translate(7.2 130.904704)scale(0.1 -0.1)\">\r\n       <use xlink:href=\"#DejaVuSans-54\"/>\r\n       <use x=\"63.623047\" xlink:href=\"#DejaVuSans-46\"/>\r\n       <use x=\"95.410156\" xlink:href=\"#DejaVuSans-50\"/>\r\n      </g>\r\n     </g>\r\n    </g>\r\n    <g id=\"ytick_4\">\r\n     <g id=\"line2d_13\">\r\n      <g>\r\n       <use style=\"stroke:#000000;stroke-width:0.8;\" x=\"30.103125\" xlink:href=\"#m92e750c9ea\" y=\"85.553363\"/>\r\n      </g>\r\n     </g>\r\n     <g id=\"text_13\">\r\n      <!-- 6.4 -->\r\n      <g transform=\"translate(7.2 89.352582)scale(0.1 -0.1)\">\r\n       <use xlink:href=\"#DejaVuSans-54\"/>\r\n       <use x=\"63.623047\" xlink:href=\"#DejaVuSans-46\"/>\r\n       <use x=\"95.410156\" xlink:href=\"#DejaVuSans-52\"/>\r\n      </g>\r\n     </g>\r\n    </g>\r\n    <g id=\"ytick_5\">\r\n     <g id=\"line2d_14\">\r\n      <g>\r\n       <use style=\"stroke:#000000;stroke-width:0.8;\" x=\"30.103125\" xlink:href=\"#m92e750c9ea\" y=\"44.001241\"/>\r\n      </g>\r\n     </g>\r\n     <g id=\"text_14\">\r\n      <!-- 6.6 -->\r\n      <g transform=\"translate(7.2 47.80046)scale(0.1 -0.1)\">\r\n       <use xlink:href=\"#DejaVuSans-54\"/>\r\n       <use x=\"63.623047\" xlink:href=\"#DejaVuSans-46\"/>\r\n       <use x=\"95.410156\" xlink:href=\"#DejaVuSans-54\"/>\r\n      </g>\r\n     </g>\r\n    </g>\r\n   </g>\r\n   <g id=\"line2d_15\">\r\n    <path clip-path=\"url(#p5df79fdb3e)\" d=\"M 45.321307 17.083636 \r\nL 83.366761 75.631068 \r\nL 121.412216 133.239266 \r\nL 159.45767 99.663429 \r\nL 197.503125 97.989893 \r\nL 235.54858 214.756364 \r\nL 273.594034 75.761757 \r\nL 311.639489 87.720873 \r\nL 349.684943 157.213212 \r\n\" style=\"fill:none;stroke:#1f77b4;stroke-linecap:square;stroke-width:1.5;\"/>\r\n   </g>\r\n   <g id=\"patch_3\">\r\n    <path d=\"M 30.103125 224.64 \r\nL 30.103125 7.2 \r\n\" style=\"fill:none;stroke:#000000;stroke-linecap:square;stroke-linejoin:miter;stroke-width:0.8;\"/>\r\n   </g>\r\n   <g id=\"patch_4\">\r\n    <path d=\"M 364.903125 224.64 \r\nL 364.903125 7.2 \r\n\" style=\"fill:none;stroke:#000000;stroke-linecap:square;stroke-linejoin:miter;stroke-width:0.8;\"/>\r\n   </g>\r\n   <g id=\"patch_5\">\r\n    <path d=\"M 30.103125 224.64 \r\nL 364.903125 224.64 \r\n\" style=\"fill:none;stroke:#000000;stroke-linecap:square;stroke-linejoin:miter;stroke-width:0.8;\"/>\r\n   </g>\r\n   <g id=\"patch_6\">\r\n    <path d=\"M 30.103125 7.2 \r\nL 364.903125 7.2 \r\n\" style=\"fill:none;stroke:#000000;stroke-linecap:square;stroke-linejoin:miter;stroke-width:0.8;\"/>\r\n   </g>\r\n  </g>\r\n </g>\r\n <defs>\r\n  <clipPath id=\"p5df79fdb3e\">\r\n   <rect height=\"217.44\" width=\"334.8\" x=\"30.103125\" y=\"7.2\"/>\r\n  </clipPath>\r\n </defs>\r\n</svg>\r\n",
      "image/png": "[encoded data removed]"
     },
     "metadata": {
      "needs_background": "light"
     }
    }
   ],
   "source": [
    "plt.plot(epochs,diversities)"
   ]
  },
  {
   "cell_type": "code",
   "execution_count": null,
   "metadata": {},
   "outputs": [],
   "source": []
  }
 ]
}