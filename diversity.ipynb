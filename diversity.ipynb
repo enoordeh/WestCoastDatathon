{
 "metadata": {
  "language_info": {
   "codemirror_mode": {
    "name": "ipython",
    "version": 3
   },
   "file_extension": ".py",
   "mimetype": "text/x-python",
   "name": "python",
   "nbconvert_exporter": "python",
   "pygments_lexer": "ipython3",
   "version": "3.8.6-final"
  },
  "orig_nbformat": 2,
  "kernelspec": {
   "name": "Python 3.8.6 64-bit ('venv')",
   "display_name": "Python 3.8.6 64-bit ('venv')",
   "metadata": {
    "interpreter": {
     "hash": "00609118f1cb952ff37d377be02185fe80c8be171dd0b2cb362c71ad962d7d38"
    }
   }
  }
 },
 "nbformat": 4,
 "nbformat_minor": 2,
 "cells": [
  {
   "cell_type": "code",
   "execution_count": 11,
   "metadata": {},
   "outputs": [],
   "source": [
    "import numpy as np\n",
    "import pandas as pd\n",
    "import matplotlib.pyplot as plt\n",
    "import seaborn as sns\n",
    "from wordcloud import WordCloud, STOPWORDS\n",
    "from sklearn.manifold import TSNE\n",
    "from sklearn.decomposition import PCA\n",
    "from sklearn import preprocessing\n",
    "import time\n",
    "from sklearn.cluster import KMeans\n",
    "from scipy import stats\n",
    "from sklearn.metrics.pairwise import euclidean_distances\n",
    "%matplotlib inline"
   ]
  },
  {
   "cell_type": "code",
   "execution_count": 4,
   "metadata": {},
   "outputs": [],
   "source": [
    "industry_df = pd.read_csv('Data/movie_industry.csv', encoding='latin-1')\n",
    "oscar_df = pd.read_csv('Data/the_oscar_award.csv', encoding='latin-1')\n",
    "links_df = pd.read_csv('Data/movie_lense/links.csv')\n",
    "tags_df = pd.read_csv('Data/movie_lense/tags.csv')\n",
    "genome_scores_df = pd.read_csv('Data/movie_lense/genome-scores.csv')\n",
    "movies_df = pd.read_csv('Data/movie_lense/movies.csv')\n",
    "ratings_df = pd.read_csv('Data/movie_lense/ratings.csv')\n",
    "genome_tags_df = pd.read_csv('Data/movie_lense/genome-tags.csv')"
   ]
  },
  {
   "cell_type": "code",
   "execution_count": 5,
   "metadata": {},
   "outputs": [
    {
     "output_type": "execute_result",
     "data": {
      "text/plain": "array([   47,    50,   296,   318,   527,   778,   858,  1147,  1193,\n        1213,  1222,  1617,  1732,  2329,  2502,  2858,  2959,  3178,\n        3949,  4011,  4226,  4973,  5110,  5137,  5954,  5995,  6016,\n        7361,  8784,  8873,  8949,  8950, 27831, 30749, 30820, 31410,\n       32587, 33794, 38061, 40278, 44195, 44204, 46976, 48394, 48516,\n       48696, 48774, 48780, 49272, 49530, 50068, 51255, 52952, 54286,\n       54503, 54997, 55118, 55247, 55290, 55765, 55820, 56367, 56782],\n      dtype=int64)"
     },
     "metadata": {},
     "execution_count": 5
    }
   ],
   "source": [
    "ratings_df\n",
    "userID=5\n",
    "def extract_user_movies(userID,thresh=4):\n",
    "    tdf = ratings_df[ratings_df['userId']==userID]\n",
    "    tdf = tdf[tdf['rating']>=thresh]\n",
    "    return tdf['movieId'].values\n",
    "\n",
    "extract_user_movies(5)"
   ]
  },
  {
   "cell_type": "code",
   "execution_count": 25,
   "metadata": {},
   "outputs": [
    {
     "output_type": "execute_result",
     "data": {
      "text/plain": "       movieId                                    title  \\\n0            1                         Toy Story (1995)   \n1            2                           Jumanji (1995)   \n2            3                  Grumpier Old Men (1995)   \n3            4                 Waiting to Exhale (1995)   \n4            5       Father of the Bride Part II (1995)   \n...        ...                                      ...   \n58093   193876                  The Great Glinka (1946)   \n58094   193878  Les tribulations d&#39;une caissière (2011)   \n58095   193880                 Her Name Was Mumu (2016)   \n58096   193882                             Flora (2017)   \n58097   193886                              Leal (2018)   \n\n                                            genres  \n0      Adventure|Animation|Children|Comedy|Fantasy  \n1                       Adventure|Children|Fantasy  \n2                                   Comedy|Romance  \n3                             Comedy|Drama|Romance  \n4                                           Comedy  \n...                                            ...  \n58093                           (no genres listed)  \n58094                                       Comedy  \n58095                                        Drama  \n58096                Adventure|Drama|Horror|Sci-Fi  \n58097                           Action|Crime|Drama  \n\n[58098 rows x 3 columns]",
      "text/html": "<div>\n<style scoped>\n    .dataframe tbody tr th:only-of-type {\n        vertical-align: middle;\n    }\n\n    .dataframe tbody tr th {\n        vertical-align: top;\n    }\n\n    .dataframe thead th {\n        text-align: right;\n    }\n</style>\n<table border=\"1\" class=\"dataframe\">\n  <thead>\n    <tr style=\"text-align: right;\">\n      <th></th>\n      <th>movieId</th>\n      <th>title</th>\n      <th>genres</th>\n    </tr>\n  </thead>\n  <tbody>\n    <tr>\n      <th>0</th>\n      <td>1</td>\n      <td>Toy Story (1995)</td>\n      <td>Adventure|Animation|Children|Comedy|Fantasy</td>\n    </tr>\n    <tr>\n      <th>1</th>\n      <td>2</td>\n      <td>Jumanji (1995)</td>\n      <td>Adventure|Children|Fantasy</td>\n    </tr>\n    <tr>\n      <th>2</th>\n      <td>3</td>\n      <td>Grumpier Old Men (1995)</td>\n      <td>Comedy|Romance</td>\n    </tr>\n    <tr>\n      <th>3</th>\n      <td>4</td>\n      <td>Waiting to Exhale (1995)</td>\n      <td>Comedy|Drama|Romance</td>\n    </tr>\n    <tr>\n      <th>4</th>\n      <td>5</td>\n      <td>Father of the Bride Part II (1995)</td>\n      <td>Comedy</td>\n    </tr>\n    <tr>\n      <th>...</th>\n      <td>...</td>\n      <td>...</td>\n      <td>...</td>\n    </tr>\n    <tr>\n      <th>58093</th>\n      <td>193876</td>\n      <td>The Great Glinka (1946)</td>\n      <td>(no genres listed)</td>\n    </tr>\n    <tr>\n      <th>58094</th>\n      <td>193878</td>\n      <td>Les tribulations d'une caissière (2011)</td>\n      <td>Comedy</td>\n    </tr>\n    <tr>\n      <th>58095</th>\n      <td>193880</td>\n      <td>Her Name Was Mumu (2016)</td>\n      <td>Drama</td>\n    </tr>\n    <tr>\n      <th>58096</th>\n      <td>193882</td>\n      <td>Flora (2017)</td>\n      <td>Adventure|Drama|Horror|Sci-Fi</td>\n    </tr>\n    <tr>\n      <th>58097</th>\n      <td>193886</td>\n      <td>Leal (2018)</td>\n      <td>Action|Crime|Drama</td>\n    </tr>\n  </tbody>\n</table>\n<p>58098 rows × 3 columns</p>\n</div>"
     },
     "metadata": {},
     "execution_count": 25
    }
   ],
   "source": [
    "tgsdf = genome_scores_df.pivot(index='movieId',columns='tagId',values='relevance')\n",
    "genome_tags_dict = dict(zip(genome_tags_df['tagId'],genome_tags_df['tag']))\n",
    "movie_names_dict = dict(zip(movies_df['movieId'],movies_df['title']))\n",
    "tags = genome_tags_df['tag'].values\n",
    "# genome_tags_dict\n",
    "# movie_names_dict\n",
    "movies_df"
   ]
  },
  {
   "cell_type": "code",
   "execution_count": 19,
   "metadata": {},
   "outputs": [
    {
     "output_type": "execute_result",
     "data": {
      "text/plain": "tagId        007  007 (series)  18th century    1920s    1930s    1950s  \\\nmovieId                                                                   \n1        0.02900       0.02375       0.05425  0.06875  0.16000  0.19525   \n2        0.03625       0.03625       0.08275  0.08175  0.10200  0.06900   \n3        0.04150       0.04950       0.03000  0.09525  0.04525  0.05925   \n4        0.03350       0.03675       0.04275  0.02625  0.05250  0.03025   \n5        0.04050       0.05175       0.03600  0.04625  0.05500  0.08000   \n...          ...           ...           ...      ...      ...      ...   \n185435   0.10625       0.10775       0.03025  0.05650  0.23175  0.04575   \n185585   0.04250       0.04175       0.06475  0.07625  0.08500  0.03800   \n186587   0.08950       0.09125       0.05075  0.04900  0.19475  0.04500   \n187593   0.05450       0.05250       0.07200  0.15050  0.23125  0.12775   \n187595   0.10150       0.10400       0.04950  0.07025  0.22875  0.11125   \n\ntagId      1960s    1970s    1980s  19th century  ...  world politics  \\\nmovieId                                           ...                   \n1        0.07600  0.25200  0.22750       0.02400  ...         0.03775   \n2        0.05775  0.10100  0.08225       0.05250  ...         0.04775   \n3        0.04000  0.14150  0.04075       0.03200  ...         0.05800   \n4        0.02425  0.07475  0.03750       0.02400  ...         0.04900   \n5        0.02150  0.07375  0.02825       0.02375  ...         0.05375   \n...          ...      ...      ...           ...  ...             ...   \n185435   0.05175  0.44700  0.19875       0.04025  ...         0.34725   \n185585   0.03425  0.16850  0.02525       0.03525  ...         0.04325   \n186587   0.03125  0.17275  0.07850       0.02475  ...         0.06475   \n187593   0.09375  0.30275  0.29850       0.10225  ...         0.15400   \n187595   0.03575  0.27350  0.07800       0.06950  ...         0.12250   \n\ntagId    world war i  world war ii  writer&#39;s life  writers  writing    wuxia  \\\nmovieId                                                                        \n1            0.02250       0.04075        0.03175  0.12950  0.04550  0.02000   \n2            0.02050       0.01650        0.02450  0.13050  0.02700  0.01825   \n3            0.02375       0.03550        0.02125  0.12775  0.03250  0.01625   \n4            0.03275       0.02125        0.03675  0.15925  0.05225  0.01500   \n5            0.02625       0.02050        0.02125  0.17725  0.02050  0.01500   \n...              ...           ...            ...      ...      ...      ...   \n185435       0.03125       0.03500        0.12125  0.32200  0.08200  0.03325   \n185585       0.05850       0.03050        0.02750  0.21850  0.04525  0.03550   \n186587       0.04500       0.04000        0.01975  0.22075  0.15125  0.06150   \n187593       0.06650       0.05825        0.06675  0.19575  0.13875  0.04525   \n187595       0.05325       0.04200        0.03725  0.20475  0.10700  0.05850   \n\ntagId       wwii   zombie  zombies  \nmovieId                             \n1        0.03850  0.09125  0.02225  \n2        0.01225  0.09925  0.01850  \n3        0.02125  0.09525  0.01750  \n4        0.01600  0.09175  0.01500  \n5        0.01550  0.08875  0.01575  \n...          ...      ...      ...  \n185435   0.02425  0.13725  0.02625  \n185585   0.02550  0.17475  0.03100  \n186587   0.04300  0.20800  0.03925  \n187593   0.05775  0.16050  0.04675  \n187595   0.03800  0.10225  0.02925  \n\n[13176 rows x 1128 columns]",
      "text/html": "<div>\n<style scoped>\n    .dataframe tbody tr th:only-of-type {\n        vertical-align: middle;\n    }\n\n    .dataframe tbody tr th {\n        vertical-align: top;\n    }\n\n    .dataframe thead th {\n        text-align: right;\n    }\n</style>\n<table border=\"1\" class=\"dataframe\">\n  <thead>\n    <tr style=\"text-align: right;\">\n      <th>tagId</th>\n      <th>007</th>\n      <th>007 (series)</th>\n      <th>18th century</th>\n      <th>1920s</th>\n      <th>1930s</th>\n      <th>1950s</th>\n      <th>1960s</th>\n      <th>1970s</th>\n      <th>1980s</th>\n      <th>19th century</th>\n      <th>...</th>\n      <th>world politics</th>\n      <th>world war i</th>\n      <th>world war ii</th>\n      <th>writer's life</th>\n      <th>writers</th>\n      <th>writing</th>\n      <th>wuxia</th>\n      <th>wwii</th>\n      <th>zombie</th>\n      <th>zombies</th>\n    </tr>\n    <tr>\n      <th>movieId</th>\n      <th></th>\n      <th></th>\n      <th></th>\n      <th></th>\n      <th></th>\n      <th></th>\n      <th></th>\n      <th></th>\n      <th></th>\n      <th></th>\n      <th></th>\n      <th></th>\n      <th></th>\n      <th></th>\n      <th></th>\n      <th></th>\n      <th></th>\n      <th></th>\n      <th></th>\n      <th></th>\n      <th></th>\n    </tr>\n  </thead>\n  <tbody>\n    <tr>\n      <th>1</th>\n      <td>0.02900</td>\n      <td>0.02375</td>\n      <td>0.05425</td>\n      <td>0.06875</td>\n      <td>0.16000</td>\n      <td>0.19525</td>\n      <td>0.07600</td>\n      <td>0.25200</td>\n      <td>0.22750</td>\n      <td>0.02400</td>\n      <td>...</td>\n      <td>0.03775</td>\n      <td>0.02250</td>\n      <td>0.04075</td>\n      <td>0.03175</td>\n      <td>0.12950</td>\n      <td>0.04550</td>\n      <td>0.02000</td>\n      <td>0.03850</td>\n      <td>0.09125</td>\n      <td>0.02225</td>\n    </tr>\n    <tr>\n      <th>2</th>\n      <td>0.03625</td>\n      <td>0.03625</td>\n      <td>0.08275</td>\n      <td>0.08175</td>\n      <td>0.10200</td>\n      <td>0.06900</td>\n      <td>0.05775</td>\n      <td>0.10100</td>\n      <td>0.08225</td>\n      <td>0.05250</td>\n      <td>...</td>\n      <td>0.04775</td>\n      <td>0.02050</td>\n      <td>0.01650</td>\n      <td>0.02450</td>\n      <td>0.13050</td>\n      <td>0.02700</td>\n      <td>0.01825</td>\n      <td>0.01225</td>\n      <td>0.09925</td>\n      <td>0.01850</td>\n    </tr>\n    <tr>\n      <th>3</th>\n      <td>0.04150</td>\n      <td>0.04950</td>\n      <td>0.03000</td>\n      <td>0.09525</td>\n      <td>0.04525</td>\n      <td>0.05925</td>\n      <td>0.04000</td>\n      <td>0.14150</td>\n      <td>0.04075</td>\n      <td>0.03200</td>\n      <td>...</td>\n      <td>0.05800</td>\n      <td>0.02375</td>\n      <td>0.03550</td>\n      <td>0.02125</td>\n      <td>0.12775</td>\n      <td>0.03250</td>\n      <td>0.01625</td>\n      <td>0.02125</td>\n      <td>0.09525</td>\n      <td>0.01750</td>\n    </tr>\n    <tr>\n      <th>4</th>\n      <td>0.03350</td>\n      <td>0.03675</td>\n      <td>0.04275</td>\n      <td>0.02625</td>\n      <td>0.05250</td>\n      <td>0.03025</td>\n      <td>0.02425</td>\n      <td>0.07475</td>\n      <td>0.03750</td>\n      <td>0.02400</td>\n      <td>...</td>\n      <td>0.04900</td>\n      <td>0.03275</td>\n      <td>0.02125</td>\n      <td>0.03675</td>\n      <td>0.15925</td>\n      <td>0.05225</td>\n      <td>0.01500</td>\n      <td>0.01600</td>\n      <td>0.09175</td>\n      <td>0.01500</td>\n    </tr>\n    <tr>\n      <th>5</th>\n      <td>0.04050</td>\n      <td>0.05175</td>\n      <td>0.03600</td>\n      <td>0.04625</td>\n      <td>0.05500</td>\n      <td>0.08000</td>\n      <td>0.02150</td>\n      <td>0.07375</td>\n      <td>0.02825</td>\n      <td>0.02375</td>\n      <td>...</td>\n      <td>0.05375</td>\n      <td>0.02625</td>\n      <td>0.02050</td>\n      <td>0.02125</td>\n      <td>0.17725</td>\n      <td>0.02050</td>\n      <td>0.01500</td>\n      <td>0.01550</td>\n      <td>0.08875</td>\n      <td>0.01575</td>\n    </tr>\n    <tr>\n      <th>...</th>\n      <td>...</td>\n      <td>...</td>\n      <td>...</td>\n      <td>...</td>\n      <td>...</td>\n      <td>...</td>\n      <td>...</td>\n      <td>...</td>\n      <td>...</td>\n      <td>...</td>\n      <td>...</td>\n      <td>...</td>\n      <td>...</td>\n      <td>...</td>\n      <td>...</td>\n      <td>...</td>\n      <td>...</td>\n      <td>...</td>\n      <td>...</td>\n      <td>...</td>\n      <td>...</td>\n    </tr>\n    <tr>\n      <th>185435</th>\n      <td>0.10625</td>\n      <td>0.10775</td>\n      <td>0.03025</td>\n      <td>0.05650</td>\n      <td>0.23175</td>\n      <td>0.04575</td>\n      <td>0.05175</td>\n      <td>0.44700</td>\n      <td>0.19875</td>\n      <td>0.04025</td>\n      <td>...</td>\n      <td>0.34725</td>\n      <td>0.03125</td>\n      <td>0.03500</td>\n      <td>0.12125</td>\n      <td>0.32200</td>\n      <td>0.08200</td>\n      <td>0.03325</td>\n      <td>0.02425</td>\n      <td>0.13725</td>\n      <td>0.02625</td>\n    </tr>\n    <tr>\n      <th>185585</th>\n      <td>0.04250</td>\n      <td>0.04175</td>\n      <td>0.06475</td>\n      <td>0.07625</td>\n      <td>0.08500</td>\n      <td>0.03800</td>\n      <td>0.03425</td>\n      <td>0.16850</td>\n      <td>0.02525</td>\n      <td>0.03525</td>\n      <td>...</td>\n      <td>0.04325</td>\n      <td>0.05850</td>\n      <td>0.03050</td>\n      <td>0.02750</td>\n      <td>0.21850</td>\n      <td>0.04525</td>\n      <td>0.03550</td>\n      <td>0.02550</td>\n      <td>0.17475</td>\n      <td>0.03100</td>\n    </tr>\n    <tr>\n      <th>186587</th>\n      <td>0.08950</td>\n      <td>0.09125</td>\n      <td>0.05075</td>\n      <td>0.04900</td>\n      <td>0.19475</td>\n      <td>0.04500</td>\n      <td>0.03125</td>\n      <td>0.17275</td>\n      <td>0.07850</td>\n      <td>0.02475</td>\n      <td>...</td>\n      <td>0.06475</td>\n      <td>0.04500</td>\n      <td>0.04000</td>\n      <td>0.01975</td>\n      <td>0.22075</td>\n      <td>0.15125</td>\n      <td>0.06150</td>\n      <td>0.04300</td>\n      <td>0.20800</td>\n      <td>0.03925</td>\n    </tr>\n    <tr>\n      <th>187593</th>\n      <td>0.05450</td>\n      <td>0.05250</td>\n      <td>0.07200</td>\n      <td>0.15050</td>\n      <td>0.23125</td>\n      <td>0.12775</td>\n      <td>0.09375</td>\n      <td>0.30275</td>\n      <td>0.29850</td>\n      <td>0.10225</td>\n      <td>...</td>\n      <td>0.15400</td>\n      <td>0.06650</td>\n      <td>0.05825</td>\n      <td>0.06675</td>\n      <td>0.19575</td>\n      <td>0.13875</td>\n      <td>0.04525</td>\n      <td>0.05775</td>\n      <td>0.16050</td>\n      <td>0.04675</td>\n    </tr>\n    <tr>\n      <th>187595</th>\n      <td>0.10150</td>\n      <td>0.10400</td>\n      <td>0.04950</td>\n      <td>0.07025</td>\n      <td>0.22875</td>\n      <td>0.11125</td>\n      <td>0.03575</td>\n      <td>0.27350</td>\n      <td>0.07800</td>\n      <td>0.06950</td>\n      <td>...</td>\n      <td>0.12250</td>\n      <td>0.05325</td>\n      <td>0.04200</td>\n      <td>0.03725</td>\n      <td>0.20475</td>\n      <td>0.10700</td>\n      <td>0.05850</td>\n      <td>0.03800</td>\n      <td>0.10225</td>\n      <td>0.02925</td>\n    </tr>\n  </tbody>\n</table>\n<p>13176 rows × 1128 columns</p>\n</div>"
     },
     "metadata": {},
     "execution_count": 19
    }
   ],
   "source": [
    "movie_tags_df = tgsdf.rename(genome_tags_dict,axis='columns')\n",
    "movie_tags_thresh_df = movie_tags_df.copy()\n",
    "thresh = 0.8\n",
    "movie_tags_thresh_df[movie_tags_thresh_df<thresh] = 0\n",
    "movie_tags_thresh_df[movie_tags_thresh_df>thresh] = 1\n",
    "# movie_tags_df.sum()\n",
    "movie_tags_df"
   ]
  },
  {
   "cell_type": "code",
   "execution_count": 32,
   "metadata": {},
   "outputs": [],
   "source": [
    "# Make matrix of euclidian distance b/w each movie\n",
    "dist = euclidean_distances(movie_tags_df,movie_tags_df)"
   ]
  },
  {
   "cell_type": "code",
   "execution_count": 18,
   "metadata": {},
   "outputs": [
    {
     "output_type": "execute_result",
     "data": {
      "text/plain": "0.023749999999999997"
     },
     "metadata": {},
     "execution_count": 18
    }
   ],
   "source": [
    "movie_tags_df.iloc[0,1]"
   ]
  },
  {
   "cell_type": "code",
   "execution_count": 33,
   "metadata": {},
   "outputs": [
    {
     "output_type": "execute_result",
     "data": {
      "text/plain": "array([[5.80485434, 5.60443644, 6.33694617, ..., 6.67146577, 6.76831775,\n        5.63426966],\n       [5.60443644, 5.80485434, 4.9950365 , ..., 5.46353316, 7.32374549,\n        5.24566639],\n       [6.33694617, 4.9950365 , 5.80485434, ..., 5.31612765, 6.81545049,\n        5.03226821],\n       ...,\n       [6.67146577, 5.46353316, 5.31612765, ..., 5.80485434, 6.3338389 ,\n        5.2941725 ],\n       [6.76831775, 7.32374549, 6.81545049, ..., 6.3338389 , 5.80485434,\n        5.05494847],\n       [5.63426966, 5.24566639, 5.03226821, ..., 5.2941725 , 5.05494847,\n        5.80485434]])"
     },
     "metadata": {},
     "execution_count": 33
    }
   ],
   "source": [
    "np.fill_diagonal(dist,np.median(dist)) # Make all diags median so they doont influence min or max\n",
    "dist"
   ]
  },
  {
   "cell_type": "code",
   "execution_count": 35,
   "metadata": {
    "tags": []
   },
   "outputs": [],
   "source": [
    "x, y = np.unravel_index(dist.argmin(), dist.shape)"
   ]
  },
  {
   "cell_type": "code",
   "execution_count": 45,
   "metadata": {
    "tags": []
   },
   "outputs": [
    {
     "output_type": "stream",
     "name": "stdout",
     "text": "       movieId         title                 genres\n13173    63436  Saw V (2008)  Crime|Horror|Thriller\n       movieId          title                         genres\n14456    72129  Saw VI (2009)  Crime|Horror|Mystery|Thriller\n"
    }
   ],
   "source": [
    "print(movies_df[movies_df['movieId']==movie_tags_df.index[x]])\n",
    "print(movies_df[movies_df['movieId']==movie_tags_df.index[y]])"
   ]
  },
  {
   "cell_type": "code",
   "execution_count": null,
   "metadata": {},
   "outputs": [],
   "source": []
  }
 ]
}